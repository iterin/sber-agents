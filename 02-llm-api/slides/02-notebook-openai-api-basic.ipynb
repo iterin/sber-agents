{
  "cells": [
    {
      "cell_type": "markdown",
      "metadata": {},
      "source": [
        "# 🚀 Практика работы с OpenAI API ч1: Основы\n",
        "\n",
        "## 📚 Что вы узнаете в этом notebook:\n",
        "\n",
        "- ✅ Как делать первый запрос к OpenAI API\n",
        "- ✅ Разбор структуры запроса и ответа\n",
        "- ✅ Основные параметры для управления поведением модели\n",
        "- ✅ Работа с ролями в диалоге (system, user, assistant)\n",
        "- ✅ Как легко переключаться между разными моделями и провайдерами\n",
        "- ✅ Сравнение сильных и слабых моделей\n",
        "- ✅ Управление историей диалога\n",
        "\n",
        "## 🎯 Цель:\n",
        "\n",
        "Показать основы работы с OpenAI API и легкость смены разных моделей и провайдеров.\n",
        "\n",
        "---\n"
      ]
    },
    {
      "cell_type": "markdown",
      "metadata": {},
      "source": [
        "## 📦 Установка и подготовка\n",
        "\n",
        "Для работы нам понадобится библиотека `openai` - официальный клиент для работы с OpenAI API.\n"
      ]
    },
    {
      "cell_type": "code",
      "execution_count": 27,
      "metadata": {},
      "outputs": [
        {
          "name": "stdout",
          "output_type": "stream",
          "text": [
            "Requirement already satisfied: openai in /Users/gazebo/work/smirnoff_ai/courses/llmstart-02082025/notebooks/.venv_notebook_demo/lib/python3.12/site-packages (1.99.7)\n",
            "Requirement already satisfied: python-dotenv in /Users/gazebo/work/smirnoff_ai/courses/llmstart-02082025/notebooks/.venv_notebook_demo/lib/python3.12/site-packages (1.1.1)\n",
            "Requirement already satisfied: anyio<5,>=3.5.0 in /Users/gazebo/work/smirnoff_ai/courses/llmstart-02082025/notebooks/.venv_notebook_demo/lib/python3.12/site-packages (from openai) (4.10.0)\n",
            "Requirement already satisfied: distro<2,>=1.7.0 in /Users/gazebo/work/smirnoff_ai/courses/llmstart-02082025/notebooks/.venv_notebook_demo/lib/python3.12/site-packages (from openai) (1.9.0)\n",
            "Requirement already satisfied: httpx<1,>=0.23.0 in /Users/gazebo/work/smirnoff_ai/courses/llmstart-02082025/notebooks/.venv_notebook_demo/lib/python3.12/site-packages (from openai) (0.28.1)\n",
            "Requirement already satisfied: jiter<1,>=0.4.0 in /Users/gazebo/work/smirnoff_ai/courses/llmstart-02082025/notebooks/.venv_notebook_demo/lib/python3.12/site-packages (from openai) (0.10.0)\n",
            "Requirement already satisfied: pydantic<3,>=1.9.0 in /Users/gazebo/work/smirnoff_ai/courses/llmstart-02082025/notebooks/.venv_notebook_demo/lib/python3.12/site-packages (from openai) (2.11.7)\n",
            "Requirement already satisfied: sniffio in /Users/gazebo/work/smirnoff_ai/courses/llmstart-02082025/notebooks/.venv_notebook_demo/lib/python3.12/site-packages (from openai) (1.3.1)\n",
            "Requirement already satisfied: tqdm>4 in /Users/gazebo/work/smirnoff_ai/courses/llmstart-02082025/notebooks/.venv_notebook_demo/lib/python3.12/site-packages (from openai) (4.67.1)\n",
            "Requirement already satisfied: typing-extensions<5,>=4.11 in /Users/gazebo/work/smirnoff_ai/courses/llmstart-02082025/notebooks/.venv_notebook_demo/lib/python3.12/site-packages (from openai) (4.14.1)\n",
            "Requirement already satisfied: idna>=2.8 in /Users/gazebo/work/smirnoff_ai/courses/llmstart-02082025/notebooks/.venv_notebook_demo/lib/python3.12/site-packages (from anyio<5,>=3.5.0->openai) (3.10)\n",
            "Requirement already satisfied: certifi in /Users/gazebo/work/smirnoff_ai/courses/llmstart-02082025/notebooks/.venv_notebook_demo/lib/python3.12/site-packages (from httpx<1,>=0.23.0->openai) (2025.8.3)\n",
            "Requirement already satisfied: httpcore==1.* in /Users/gazebo/work/smirnoff_ai/courses/llmstart-02082025/notebooks/.venv_notebook_demo/lib/python3.12/site-packages (from httpx<1,>=0.23.0->openai) (1.0.9)\n",
            "Requirement already satisfied: h11>=0.16 in /Users/gazebo/work/smirnoff_ai/courses/llmstart-02082025/notebooks/.venv_notebook_demo/lib/python3.12/site-packages (from httpcore==1.*->httpx<1,>=0.23.0->openai) (0.16.0)\n",
            "Requirement already satisfied: annotated-types>=0.6.0 in /Users/gazebo/work/smirnoff_ai/courses/llmstart-02082025/notebooks/.venv_notebook_demo/lib/python3.12/site-packages (from pydantic<3,>=1.9.0->openai) (0.7.0)\n",
            "Requirement already satisfied: pydantic-core==2.33.2 in /Users/gazebo/work/smirnoff_ai/courses/llmstart-02082025/notebooks/.venv_notebook_demo/lib/python3.12/site-packages (from pydantic<3,>=1.9.0->openai) (2.33.2)\n",
            "Requirement already satisfied: typing-inspection>=0.4.0 in /Users/gazebo/work/smirnoff_ai/courses/llmstart-02082025/notebooks/.venv_notebook_demo/lib/python3.12/site-packages (from pydantic<3,>=1.9.0->openai) (0.4.1)\n",
            "\n",
            "\u001b[1m[\u001b[0m\u001b[34;49mnotice\u001b[0m\u001b[1;39;49m]\u001b[0m\u001b[39;49m A new release of pip is available: \u001b[0m\u001b[31;49m24.3.1\u001b[0m\u001b[39;49m -> \u001b[0m\u001b[32;49m25.2\u001b[0m\n",
            "\u001b[1m[\u001b[0m\u001b[34;49mnotice\u001b[0m\u001b[1;39;49m]\u001b[0m\u001b[39;49m To update, run: \u001b[0m\u001b[32;49mpip install --upgrade pip\u001b[0m\n",
            "Note: you may need to restart the kernel to use updated packages.\n"
          ]
        }
      ],
      "source": [
        "# Установка библиотеки (если еще не установлена)\n",
        "%pip install openai python-dotenv\n"
      ]
    },
    {
      "cell_type": "code",
      "execution_count": 74,
      "metadata": {},
      "outputs": [
        {
          "name": "stdout",
          "output_type": "stream",
          "text": [
            "✅ Библиотеки импортированы успешно!\n",
            "🔑 API ключ загружен: Да\n"
          ]
        }
      ],
      "source": [
        "# Импортируем необходимые библиотеки\n",
        "import os\n",
        "from openai import OpenAI\n",
        "from dotenv import load_dotenv\n",
        "\n",
        "# Загружаем переменные окружения из .env файла\n",
        "load_dotenv()\n",
        "\n",
        "# Получаем API ключ из переменных окружения\n",
        "OPENAI_API_KEY = os.getenv(\"OPENAI_API_KEY\")\n",
        "\n",
        "print(\"✅ Библиотеки импортированы успешно!\")\n",
        "print(f\"🔑 API ключ загружен: {'Да' if OPENAI_API_KEY else 'Нет'}\")\n"
      ]
    },
    {
      "cell_type": "markdown",
      "metadata": {},
      "source": [
        "### 💡 Важно!\n",
        "\n",
        "Создайте файл `.env` в корне проекта и добавьте туда свой API ключ:\n",
        "\n",
        "```\n",
        "OPENAI_API_KEY=sk-your-api-key-here\n",
        "```\n",
        "\n",
        "Получить API ключ можно на сайте: https://platform.openai.com/api-keys\n"
      ]
    },
    {
      "cell_type": "markdown",
      "metadata": {},
      "source": [
        "---\n",
        "\n",
        "# Раздел 1: Первый запрос к OpenAI API\n",
        "\n",
        "Начнем с самого простого - отправим один запрос и получим ответ от модели.\n"
      ]
    },
    {
      "cell_type": "markdown",
      "metadata": {},
      "source": [
        "## 1.1 Инициализация клиента\n",
        "\n",
        "Первым делом нужно создать клиент для работы с API.\n"
      ]
    },
    {
      "cell_type": "code",
      "execution_count": 29,
      "metadata": {},
      "outputs": [
        {
          "name": "stdout",
          "output_type": "stream",
          "text": [
            "✅ Клиент OpenAI создан!\n"
          ]
        }
      ],
      "source": [
        "# Создаем клиент OpenAI\n",
        "client = OpenAI(\n",
        "    api_key=OPENAI_API_KEY  # Передаем наш API ключ\n",
        ")\n",
        "\n",
        "print(\"✅ Клиент OpenAI создан!\")\n"
      ]
    },
    {
      "cell_type": "markdown",
      "metadata": {},
      "source": [
        "## 1.2 Простейший запрос\n",
        "\n",
        "Отправим самый простой запрос к модели.\n"
      ]
    },
    {
      "cell_type": "code",
      "execution_count": 30,
      "metadata": {},
      "outputs": [
        {
          "name": "stdout",
          "output_type": "stream",
          "text": [
            "✅ Запрос выполнен успешно!\n"
          ]
        }
      ],
      "source": [
        "# Отправляем запрос к модели\n",
        "response = client.chat.completions.create(\n",
        "    model=\"gpt-4o-mini\",  # Какую модель используем (быстрая и недорогая)\n",
        "    messages=[\n",
        "        {\"role\": \"user\", \"content\": \"Привет! Расскажи в одном предложении, что ты умеешь делать?\"}  # Наше сообщение\n",
        "    ]\n",
        ")\n",
        "\n",
        "print(\"✅ Запрос выполнен успешно!\")\n"
      ]
    },
    {
      "cell_type": "markdown",
      "metadata": {},
      "source": [
        "## 1.3 Извлечение текста ответа\n",
        "\n",
        "Самый простой способ получить текст ответа:\n"
      ]
    },
    {
      "cell_type": "code",
      "execution_count": 31,
      "metadata": {},
      "outputs": [
        {
          "name": "stdout",
          "output_type": "stream",
          "text": [
            "💬 Ответ модели:\n",
            "Привет! Я умею отвечать на вопросы, предоставлять информацию, помогать с изучением языков, генерировать идеи и советы, а также обсуждать различные темы.\n"
          ]
        }
      ],
      "source": [
        "# Получаем текст ответа от модели\n",
        "answer = response.choices[0].message.content\n",
        "\n",
        "print(\"💬 Ответ модели:\")\n",
        "print(answer)\n"
      ]
    },
    {
      "cell_type": "markdown",
      "metadata": {},
      "source": [
        "## 1.4 Подробный разбор структуры ответа\n",
        "\n",
        "Теперь давайте разберем, что именно нам вернула модель. Объект ответа содержит много полезной информации!\n"
      ]
    },
    {
      "cell_type": "code",
      "execution_count": 32,
      "metadata": {},
      "outputs": [
        {
          "name": "stdout",
          "output_type": "stream",
          "text": [
            "📦 Полный объект ответа:\n",
            "ChatCompletion(id='chatcmpl-CTpPg3I7w3xtGapOjRhD5HOX4SXbb', choices=[Choice(finish_reason='stop', index=0, logprobs=None, message=ChatCompletionMessage(content='Привет! Я умею отвечать на вопросы, предоставлять информацию, помогать с изучением языков, генерировать идеи и советы, а также обсуждать различные темы.', refusal=None, role='assistant', annotations=[], audio=None, function_call=None, tool_calls=None))], created=1761225180, model='gpt-4o-mini-2024-07-18', object='chat.completion', service_tier='default', system_fingerprint='fp_560af6e559', usage=CompletionUsage(completion_tokens=37, prompt_tokens=24, total_tokens=61, completion_tokens_details=CompletionTokensDetails(accepted_prediction_tokens=0, audio_tokens=0, reasoning_tokens=0, rejected_prediction_tokens=0), prompt_tokens_details=PromptTokensDetails(audio_tokens=0, cached_tokens=0)))\n",
            "\n",
            "================================================================================\n",
            "\n"
          ]
        }
      ],
      "source": [
        "# Смотрим весь объект ответа\n",
        "print(\"📦 Полный объект ответа:\")\n",
        "print(response)\n",
        "print(\"\\n\" + \"=\"*80 + \"\\n\")\n"
      ]
    },
    {
      "cell_type": "markdown",
      "metadata": {},
      "source": [
        "### 🔍 Разбор полей ответа:\n",
        "\n",
        "Давайте детально рассмотрим каждое поле:\n"
      ]
    },
    {
      "cell_type": "code",
      "execution_count": 33,
      "metadata": {},
      "outputs": [
        {
          "name": "stdout",
          "output_type": "stream",
          "text": [
            "🆔 ID запроса:\n",
            "   chatcmpl-CTpPg3I7w3xtGapOjRhD5HOX4SXbb\n",
            "   ↳ Уникальный идентификатор этого запроса\n",
            "\n",
            "🏷️  Тип объекта:\n",
            "   chat.completion\n",
            "   ↳ Всегда 'chat.completion' для обычных запросов\n",
            "\n",
            "📅 Время создания (timestamp):\n",
            "   1761225180\n",
            "   ↳ Unix timestamp - когда был создан ответ\n",
            "\n",
            "🤖 Модель:\n",
            "   gpt-4o-mini-2024-07-18\n",
            "   ↳ Какая именно модель ответила (может отличаться от запрошенной)\n",
            "\n",
            "💡 Choices (варианты ответов):\n",
            "   Количество вариантов: 1\n",
            "   ↳ Обычно один вариант, но можно запросить несколько (параметр n)\n",
            "\n",
            "   Первый вариант ответа:\n",
            "   - index: 0\n",
            "   - finish_reason: stop\n",
            "     ↳ Причина завершения: 'stop' = нормальное завершение\n",
            "   - message.role: assistant\n",
            "     ↳ Роль ответившего (всегда 'assistant')\n",
            "   - message.content: Привет! Я умею отвечать на вопросы, предоставлять ...\n",
            "     ↳ Сам текст ответа\n",
            "\n",
            "📊 Usage (использование токенов):\n",
            "   - prompt_tokens: 24\n",
            "     ↳ Сколько токенов в нашем запросе\n",
            "   - completion_tokens: 37\n",
            "     ↳ Сколько токенов в ответе модели\n",
            "   - total_tokens: 61\n",
            "     ↳ Всего токенов использовано\n",
            "\n",
            "💰 Стоимость:\n",
            "   GPT-4o-mini цены (на март 2024):\n",
            "   - Input: $0.150 / 1M токенов\n",
            "   - Output: $0.600 / 1M токенов\n",
            "   Примерная стоимость этого запроса: $0.000026\n"
          ]
        }
      ],
      "source": [
        "print(\"🆔 ID запроса:\")\n",
        "print(f\"   {response.id}\")\n",
        "print(\"   ↳ Уникальный идентификатор этого запроса\")\n",
        "print()\n",
        "\n",
        "print(\"🏷️  Тип объекта:\")\n",
        "print(f\"   {response.object}\")\n",
        "print(\"   ↳ Всегда 'chat.completion' для обычных запросов\")\n",
        "print()\n",
        "\n",
        "print(\"📅 Время создания (timestamp):\")\n",
        "print(f\"   {response.created}\")\n",
        "print(\"   ↳ Unix timestamp - когда был создан ответ\")\n",
        "print()\n",
        "\n",
        "print(\"🤖 Модель:\")\n",
        "print(f\"   {response.model}\")\n",
        "print(\"   ↳ Какая именно модель ответила (может отличаться от запрошенной)\")\n",
        "print()\n",
        "\n",
        "print(\"💡 Choices (варианты ответов):\")\n",
        "print(f\"   Количество вариантов: {len(response.choices)}\")\n",
        "print(\"   ↳ Обычно один вариант, но можно запросить несколько (параметр n)\")\n",
        "print()\n",
        "\n",
        "print(\"   Первый вариант ответа:\")\n",
        "choice = response.choices[0]\n",
        "print(f\"   - index: {choice.index}\")\n",
        "print(f\"   - finish_reason: {choice.finish_reason}\")\n",
        "print(\"     ↳ Причина завершения: 'stop' = нормальное завершение\")\n",
        "print(f\"   - message.role: {choice.message.role}\")\n",
        "print(\"     ↳ Роль ответившего (всегда 'assistant')\")\n",
        "print(f\"   - message.content: {choice.message.content[:50]}...\")\n",
        "print(\"     ↳ Сам текст ответа\")\n",
        "print()\n",
        "\n",
        "print(\"📊 Usage (использование токенов):\")\n",
        "print(f\"   - prompt_tokens: {response.usage.prompt_tokens}\")\n",
        "print(\"     ↳ Сколько токенов в нашем запросе\")\n",
        "print(f\"   - completion_tokens: {response.usage.completion_tokens}\")\n",
        "print(\"     ↳ Сколько токенов в ответе модели\")\n",
        "print(f\"   - total_tokens: {response.usage.total_tokens}\")\n",
        "print(\"     ↳ Всего токенов использовано\")\n",
        "print()\n",
        "\n",
        "print(\"💰 Стоимость:\")\n",
        "print(\"   GPT-4o-mini цены (на март 2024):\")\n",
        "print(\"   - Input: $0.150 / 1M токенов\")\n",
        "print(\"   - Output: $0.600 / 1M токенов\")\n",
        "cost = (response.usage.prompt_tokens * 0.150 / 1_000_000 + \n",
        "        response.usage.completion_tokens * 0.600 / 1_000_000)\n",
        "print(f\"   Примерная стоимость этого запроса: ${cost:.6f}\")\n"
      ]
    },
    {
      "cell_type": "markdown",
      "metadata": {},
      "source": [
        "### 📝 Важные моменты:\n",
        "\n",
        "1. **`finish_reason`** может быть:\n",
        "   - `stop` - модель завершила ответ естественным образом\n",
        "   - `length` - достигнут лимит токенов (параметр `max_tokens`)\n",
        "   - `content_filter` - ответ заблокирован фильтром контента\n",
        "   - `tool_calls` - модель вызвала инструменты (об этом в других уроках)\n",
        "\n",
        "2. **Токены** - это не слова! Один токен ≈ 0.75 слова для английского, ≈ 0.5 слова для русского\n",
        "\n",
        "3. **Стоимость** зависит от:\n",
        "   - Модели (GPT-4 дороже, чем GPT-3.5)\n",
        "   - Количества токенов\n",
        "   - Input токены обычно дешевле output токенов\n"
      ]
    },
    {
      "cell_type": "markdown",
      "metadata": {},
      "source": [
        "## 1.5 Практика: еще несколько примеров\n",
        "\n",
        "Попробуем разные запросы и посмотрим на изменения в ответах:\n"
      ]
    },
    {
      "cell_type": "code",
      "execution_count": 34,
      "metadata": {},
      "outputs": [
        {
          "name": "stdout",
          "output_type": "stream",
          "text": [
            "❓ Вопрос: Сколько будет 2+2?\n",
            "💬 Ответ: 2 + 2 будет равняться 4.\n",
            "📊 Токены: 15 (in) + 11 (out)\n",
            "\n"
          ]
        }
      ],
      "source": [
        "# Пример 1: Короткий вопрос\n",
        "response1 = client.chat.completions.create(\n",
        "    model=\"gpt-4o-mini\",\n",
        "    messages=[{\"role\": \"user\", \"content\": \"Сколько будет 2+2?\"}]\n",
        ")\n",
        "\n",
        "print(\"❓ Вопрос: Сколько будет 2+2?\")\n",
        "print(f\"💬 Ответ: {response1.choices[0].message.content}\")\n",
        "print(f\"📊 Токены: {response1.usage.prompt_tokens} (in) + {response1.usage.completion_tokens} (out)\")\n",
        "print()\n"
      ]
    },
    {
      "cell_type": "code",
      "execution_count": 35,
      "metadata": {},
      "outputs": [
        {
          "name": "stdout",
          "output_type": "stream",
          "text": [
            "❓ Вопрос: Объясни простыми словами, что такое машинное обучение\n",
            "💬 Ответ: Машинное обучение — это область информатики, которая занимается созданием алгоритмов, позволяющих компьютерам обучаться на данных и делать предсказания или принимать решения без явного программирования. Оно позволяет системам улучшать свою работу с течением времени на основе полученного опыта.\n",
            "📊 Токены: 26 (in) + 59 (out)\n",
            "\n"
          ]
        }
      ],
      "source": [
        "# Пример 2: Задача посложнее\n",
        "response2 = client.chat.completions.create(\n",
        "    model=\"gpt-4o-mini\",\n",
        "    messages=[{\n",
        "        \"role\": \"user\", \n",
        "        \"content\": \"Объясни простыми словами, что такое машинное обучение. Максимум 2 предложения.\"\n",
        "    }]\n",
        ")\n",
        "\n",
        "print(\"❓ Вопрос: Объясни простыми словами, что такое машинное обучение\")\n",
        "print(f\"💬 Ответ: {response2.choices[0].message.content}\")\n",
        "print(f\"📊 Токены: {response2.usage.prompt_tokens} (in) + {response2.usage.completion_tokens} (out)\")\n",
        "print()\n"
      ]
    },
    {
      "cell_type": "code",
      "execution_count": 36,
      "metadata": {},
      "outputs": [
        {
          "name": "stdout",
          "output_type": "stream",
          "text": [
            "❓ Вопрос: Напиши короткое стихотворение про кота\n",
            "💬 Ответ:\n",
            "Как кот в окне, он солнце ждет,  \n",
            "Мурлычет тихо, мечты плетет.  \n",
            "Вдаль глядит, где птицы вьются,  \n",
            "В его глазах — весна смеется.  \n",
            "\n",
            "📊 Токены: 21 (in) + 53 (out)\n"
          ]
        }
      ],
      "source": [
        "# Пример 3: Генерация текста\n",
        "response3 = client.chat.completions.create(\n",
        "    model=\"gpt-4o-mini\",\n",
        "    messages=[{\n",
        "        \"role\": \"user\", \n",
        "        \"content\": \"Напиши короткое стихотворение про кота (4 строки)\"\n",
        "    }]\n",
        ")\n",
        "\n",
        "print(\"❓ Вопрос: Напиши короткое стихотворение про кота\")\n",
        "print(f\"💬 Ответ:\\n{response3.choices[0].message.content}\")\n",
        "print(f\"\\n📊 Токены: {response3.usage.prompt_tokens} (in) + {response3.usage.completion_tokens} (out)\")\n"
      ]
    },
    {
      "cell_type": "markdown",
      "metadata": {},
      "source": [
        "---\n",
        "\n",
        "## ✅ Итоги Раздела 1:\n",
        "\n",
        "Мы научились:\n",
        "- ✅ Создавать клиент OpenAI\n",
        "- ✅ Отправлять простейший запрос\n",
        "- ✅ Извлекать текст ответа\n",
        "- ✅ Разбирать структуру ответа и понимать все поля\n",
        "- ✅ Считать токены и примерную стоимость\n",
        "\n",
        "**Следующий шаг:** Изучим основные параметры для управления поведением модели!\n"
      ]
    },
    {
      "cell_type": "markdown",
      "metadata": {},
      "source": [
        "---\n",
        "\n",
        "# Раздел 2: Основные параметры запроса\n",
        "\n",
        "Помимо модели и сообщений, API предоставляет множество параметров для тонкой настройки поведения модели. Рассмотрим самые важные из них.\n"
      ]
    },
    {
      "cell_type": "markdown",
      "metadata": {},
      "source": [
        "## 2.1 Temperature - управление креативностью\n",
        "\n",
        "**Temperature** (температура) - один из самых важных параметров!\n",
        "\n",
        "- **Диапазон:** от 0 до 2\n",
        "- **По умолчанию:** 1.0\n",
        "- **Что делает:**\n",
        "  - `0` = Детерминированный, предсказуемый ответ (всегда выбирает самый вероятный токен)\n",
        "  - `1` = Баланс между креативностью и предсказуемостью\n",
        "  - `2` = Максимальная креативность и случайность\n",
        "\n",
        "**Когда использовать:**\n",
        "- `0-0.3` - для задач требующих точности: анализ данных, извлечение информации, классификация\n",
        "- `0.7-1.0` - для обычных диалогов и генерации текста\n",
        "- `1.5-2.0` - для творческих задач: написание стихов, генерация идей\n"
      ]
    },
    {
      "cell_type": "markdown",
      "metadata": {},
      "source": [
        "### Практика: сравним разные значения temperature\n",
        "\n",
        "Зададим одинаковый вопрос с разными значениями temperature:\n"
      ]
    },
    {
      "cell_type": "code",
      "execution_count": 37,
      "metadata": {},
      "outputs": [
        {
          "name": "stdout",
          "output_type": "stream",
          "text": [
            "🌡️ Temperature = 0 (максимально предсказуемый)\n",
            "💬 Вот несколько идей для названия кофейни:\n",
            "\n",
            "1. \"Кофейный уголок\"\n",
            "2. \"Ароматный момент\"\n",
            "3. \"Кофе и уют\"\n",
            "4. \"Заварка счастья\"\n",
            "5. \"Кофейная симфония\"\n",
            "6. \"Чашка вдохновения\"\n",
            "7. \"Кофейный рай\"\n",
            "8. \"Эспрессо и мечты\"\n",
            "9. \"Кофе с душой\"\n",
            "10. \"Тепло чашки\"\n",
            "\n",
            "Надеюсь, одно из этих названий вам понравится!\n",
            "\n"
          ]
        }
      ],
      "source": [
        "question = \"Придумай название для кофейни\"\n",
        "\n",
        "# Temperature = 0 (детерминированный)\n",
        "response_t0 = client.chat.completions.create(\n",
        "    model=\"gpt-4o-mini\",\n",
        "    messages=[{\"role\": \"user\", \"content\": question}],\n",
        "    temperature=0\n",
        ")\n",
        "\n",
        "print(\"🌡️ Temperature = 0 (максимально предсказуемый)\")\n",
        "print(f\"💬 {response_t0.choices[0].message.content}\")\n",
        "print()\n"
      ]
    },
    {
      "cell_type": "code",
      "execution_count": 38,
      "metadata": {},
      "outputs": [
        {
          "name": "stdout",
          "output_type": "stream",
          "text": [
            "🌡️ Temperature = 1.0 (стандартный, сбалансированный)\n",
            "💬 \"Кофейный уголок\"\n",
            "\n"
          ]
        }
      ],
      "source": [
        "# Temperature = 1 (стандартный)\n",
        "response_t1 = client.chat.completions.create(\n",
        "    model=\"gpt-4o-mini\",\n",
        "    messages=[{\"role\": \"user\", \"content\": question}],\n",
        "    temperature=1.0\n",
        ")\n",
        "\n",
        "print(\"🌡️ Temperature = 1.0 (стандартный, сбалансированный)\")\n",
        "print(f\"💬 {response_t1.choices[0].message.content}\")\n",
        "print()\n"
      ]
    },
    {
      "cell_type": "markdown",
      "metadata": {},
      "source": [
        "## 2.2 Max Tokens - ограничение длины ответа\n",
        "\n",
        "**max_tokens** - максимальное количество токенов в ответе модели.\n",
        "\n",
        "- **Что делает:** Ограничивает длину генерируемого ответа\n",
        "- **По умолчанию:** Зависит от модели (обычно inf - без ограничений)\n",
        "- **Важно:** Это НЕ количество слов! Токен ≈ 0.5-0.75 слова\n",
        "\n",
        "**Когда использовать:**\n",
        "- Когда нужен короткий ответ (да/нет, одно слово)\n",
        "- Для контроля затрат (меньше токенов = меньше стоимость)\n",
        "- Для предсказуемости длины ответа\n"
      ]
    },
    {
      "cell_type": "markdown",
      "metadata": {},
      "source": [
        "### Практика: ограничиваем длину ответа\n"
      ]
    },
    {
      "cell_type": "code",
      "execution_count": 43,
      "metadata": {},
      "outputs": [
        {
          "name": "stdout",
          "output_type": "stream",
          "text": [
            "♾️  Без ограничения max_tokens:\n",
            "💬 Машинное обучение — это алгоритмы, обучающиеся на данных для предсказаний.\n",
            "📊 Использовано токенов: 21\n",
            "✅ finish_reason: stop\n",
            "\n"
          ]
        }
      ],
      "source": [
        "question = \"Расскажи про машинное обучение за 10 слов\"\n",
        "\n",
        "# Без ограничений\n",
        "response_unlimited = client.chat.completions.create(\n",
        "    model=\"gpt-4o-mini\",\n",
        "    messages=[{\"role\": \"user\", \"content\": question}],\n",
        "    temperature=0.7\n",
        ")\n",
        "\n",
        "print(\"♾️  Без ограничения max_tokens:\")\n",
        "print(f\"💬 {response_unlimited.choices[0].message.content}\")\n",
        "print(f\"📊 Использовано токенов: {response_unlimited.usage.completion_tokens}\")\n",
        "print(f\"✅ finish_reason: {response_unlimited.choices[0].finish_reason}\")\n",
        "print()\n"
      ]
    },
    {
      "cell_type": "code",
      "execution_count": 41,
      "metadata": {},
      "outputs": [
        {
          "name": "stdout",
          "output_type": "stream",
          "text": [
            "🔢 max_tokens = 50:\n",
            "💬 Машинное обучение (МЛ) — это область искусственного интеллекта, которая сосредоточена на разработке алгоритмов и моделей, позволяющих компьютерам обучаться на основе данных и делать предсказания или принимать решения без\n",
            "📊 Использовано токенов: 50\n",
            "✅ finish_reason: length\n",
            "   ↳ 'length' = ответ обрезан из-за достижения лимита!\n",
            "\n"
          ]
        }
      ],
      "source": [
        "# С ограничением 50 токенов\n",
        "response_50 = client.chat.completions.create(\n",
        "    model=\"gpt-4o-mini\",\n",
        "    messages=[{\"role\": \"user\", \"content\": question}],\n",
        "    temperature=0.7,\n",
        "    max_tokens=50  # Ограничиваем длину ответа\n",
        ")\n",
        "\n",
        "print(\"🔢 max_tokens = 50:\")\n",
        "print(f\"💬 {response_50.choices[0].message.content}\")\n",
        "print(f\"📊 Использовано токенов: {response_50.usage.completion_tokens}\")\n",
        "print(f\"✅ finish_reason: {response_50.choices[0].finish_reason}\")\n",
        "print(\"   ↳ 'length' = ответ обрезан из-за достижения лимита!\")\n",
        "print()\n"
      ]
    },
    {
      "cell_type": "code",
      "execution_count": 42,
      "metadata": {},
      "outputs": [
        {
          "name": "stdout",
          "output_type": "stream",
          "text": [
            "🔢 max_tokens = 10:\n",
            "💬 Машинное обучение — это подмнож\n",
            "📊 Использовано токенов: 10\n",
            "✅ finish_reason: length\n"
          ]
        }
      ],
      "source": [
        "# Очень короткий ответ (10 токенов)\n",
        "response_10 = client.chat.completions.create(\n",
        "    model=\"gpt-4o-mini\",\n",
        "    messages=[{\"role\": \"user\", \"content\": question}],\n",
        "    temperature=0.7,\n",
        "    max_tokens=10\n",
        ")\n",
        "\n",
        "print(\"🔢 max_tokens = 10:\")\n",
        "print(f\"💬 {response_10.choices[0].message.content}\")\n",
        "print(f\"📊 Использовано токенов: {response_10.usage.completion_tokens}\")\n",
        "print(f\"✅ finish_reason: {response_10.choices[0].finish_reason}\")\n"
      ]
    },
    {
      "cell_type": "markdown",
      "metadata": {},
      "source": [
        "## 2.3 Top P - альтернативное управление разнообразием\n",
        "\n",
        "**top_p** (nucleus sampling) - еще один способ контроля случайности генерации.\n",
        "\n",
        "- **Диапазон:** от 0 до 1\n",
        "- **По умолчанию:** 1.0\n",
        "- **Что делает:** Модель выбирает из токенов, чья совокупная вероятность составляет p\n",
        "\n",
        "**Как работает:**\n",
        "- `top_p=0.1` - выбор только из топ 10% наиболее вероятных токенов (консервативно)\n",
        "- `top_p=0.9` - выбор из топ 90% вероятных токенов (сбалансированно)\n",
        "- `top_p=1.0` - рассматриваются все возможные токены (максимальное разнообразие)\n",
        "\n",
        "**⚠️ Важно:** OpenAI рекомендует использовать либо `temperature`, либо `top_p`, но не оба одновременно!\n"
      ]
    },
    {
      "cell_type": "markdown",
      "metadata": {},
      "source": [
        "### Практика: сравнение top_p\n"
      ]
    },
    {
      "cell_type": "code",
      "execution_count": 44,
      "metadata": {},
      "outputs": [
        {
          "name": "stdout",
          "output_type": "stream",
          "text": [
            "📊 top_p = 0.1 (консервативный выбор)\n",
            "💬 \"Вкусно, быстро, с любовью — еда, которая всегда рядом!\"\n",
            "\n"
          ]
        }
      ],
      "source": [
        "question = \"Придумай слоган для стартапа по доставке еды\"\n",
        "\n",
        "# top_p = 0.1 (консервативный)\n",
        "response_p01 = client.chat.completions.create(\n",
        "    model=\"gpt-4o-mini\",\n",
        "    messages=[{\"role\": \"user\", \"content\": question}],\n",
        "    temperature=1.0,  # Оставляем temperature стандартным\n",
        "    top_p=0.1  # Сильное ограничение разнообразия\n",
        ")\n",
        "\n",
        "print(\"📊 top_p = 0.1 (консервативный выбор)\")\n",
        "print(f\"💬 {response_p01.choices[0].message.content}\")\n",
        "print()\n"
      ]
    },
    {
      "cell_type": "code",
      "execution_count": 45,
      "metadata": {},
      "outputs": [
        {
          "name": "stdout",
          "output_type": "stream",
          "text": [
            "📊 top_p = 0.9 (сбалансированный)\n",
            "💬 \"Вкус на doorstep: наслаждайся каждой минутой!\"\n",
            "\n",
            "📝 Примечание: top_p даёт более стабильные результаты для точных задач, в то время как temperature лучше для творческих задач.\n"
          ]
        }
      ],
      "source": [
        "# top_p = 0.9 (сбалансированный)\n",
        "response_p09 = client.chat.completions.create(\n",
        "    model=\"gpt-4o-mini\",\n",
        "    messages=[{\"role\": \"user\", \"content\": question}],\n",
        "    temperature=1.0,\n",
        "    top_p=0.9\n",
        ")\n",
        "\n",
        "print(\"📊 top_p = 0.9 (сбалансированный)\")\n",
        "print(f\"💬 {response_p09.choices[0].message.content}\")\n",
        "print()\n",
        "\n",
        "print(\"📝 Примечание: top_p даёт более стабильные результаты для точных задач, \"\n",
        "      \"в то время как temperature лучше для творческих задач.\")\n"
      ]
    },
    {
      "cell_type": "markdown",
      "metadata": {},
      "source": [
        "## 2.4 Другие полезные параметры\n",
        "\n",
        "Есть еще несколько параметров, которые стоит знать:\n"
      ]
    },
    {
      "cell_type": "code",
      "execution_count": 46,
      "metadata": {},
      "outputs": [
        {
          "name": "stdout",
          "output_type": "stream",
          "text": [
            "🎲 Параметр n=3 (получаем несколько вариантов):\n",
            "   Вариант 1: Вот несколько идей для названия приложения:\n",
            "\n",
            "1. **LifeHub** – для приложения, которое помогает организовать повседневные задачи.\n",
            "2. **MoodTracker** – если это приложение для отслеживания настроения.\n",
            "3. **EcoPlanner** – для приложения по планированию устойчивого образа жизни.\n",
            "4. **QuickCook** – для рецептов и приготовления пищи.\n",
            "5. **FitBuddy** – для фитнес-приложения с элементами сообщества.\n",
            "6. **DreamWeaver** – если приложение связано с планами и мечтами.\n",
            "7. **ReadWise** – для приложения для чтения и рекомендаций книг.\n",
            "8. **TravelMate** – для планирования путешествий и маршрутов.\n",
            "\n",
            "Если у вас есть определённая тематика, дайте знать, и я придумаю названия, учитывая её!\n",
            "   Вариант 2: Конечно! Чтобы предложить лучшее название, можно узнать немного больше о функционале и целевой аудитории вашего приложения. Но вот несколько универсальных идей:\n",
            "\n",
            "1. **LifeSync** - для приложений, помогающих организовать жизнь и задачи.\n",
            "2. **FitTrack** - для фитнес-приложений.\n",
            "3. **MindPal** - для приложений, направленных на медитацию и ментальное здоровье.\n",
            "4. **GourmetGuide** - для кулинарных или ресторанных приложений.\n",
            "5. **TaskNest** - для организации задач и планирования.\n",
            "6. **FinanceWise** - для финансового планирования и контроля бюджета.\n",
            "7. **TravelTrove** - для приложений о путешествиях.\n",
            "\n",
            "Если будет больше информации о вашем приложении, я смогу предложить более целевые варианты!\n",
            "   Вариант 3: Конечно! Вот несколько идей для названия приложения, в зависимости от его функциональности:\n",
            "\n",
            "1. **\"Умный помощник\"** - для приложения, которое помогает в повседневных задачах.\n",
            "2. **\"Здоровье на ладони\"** - для фитнес-приложения или трекера здоровья.\n",
            "3. **\"Секреты бюджета\"** - для финансового приложения.\n",
            "4. **\"Творческая лаборатория\"** - для платформы для художников и дизайнеров.\n",
            "5. **\"Читай и лети\"** - для приложения с книгами и аудиокнигами.\n",
            "6. **\"Кулинарный гений\"** - для приложения с рецептами и планировщиком питания.\n",
            "7. **\"Путешествуй легко\"** - для приложения для планирования путешествий.\n",
            "8. **\"Дневник идей\"** - для заметок и управления задачами.\n",
            "9. **\"ФотоНаИдеи\"** - для приложения для редактирования и обработки изображений.\n",
            "10. **\"Настрой свой день\"** - для приложения для планирования и тайм-менеджмента.\n",
            "\n",
            "Если у вас есть специфическая тема или функция приложения, которую вы хотите выделить, дайте знать, и я предложу более целевые варианты!\n",
            "\n",
            "💰 Внимание: стоимость умножается на n! Токенов: 646\n"
          ]
        }
      ],
      "source": [
        "# n - количество вариантов ответа\n",
        "response_multiple = client.chat.completions.create(\n",
        "    model=\"gpt-4o-mini\",\n",
        "    messages=[{\"role\": \"user\", \"content\": \"Придумай название для приложения\"}],\n",
        "    n=3,  # Запрашиваем 3 варианта\n",
        "    temperature=1.0\n",
        ")\n",
        "\n",
        "print(\"🎲 Параметр n=3 (получаем несколько вариантов):\")\n",
        "for i, choice in enumerate(response_multiple.choices, 1):\n",
        "    print(f\"   Вариант {i}: {choice.message.content}\")\n",
        "print()\n",
        "\n",
        "print(f\"💰 Внимание: стоимость умножается на n! Токенов: {response_multiple.usage.total_tokens}\")\n"
      ]
    },
    {
      "cell_type": "code",
      "execution_count": 47,
      "metadata": {},
      "outputs": [
        {
          "name": "stdout",
          "output_type": "stream",
          "text": [
            "🔄 Без штрафов за повторения:\n",
            "Вот пять причин заниматься спортом:\n",
            "\n",
            "1. **Улучшение физического здоровья**: Регулярные физические нагрузки способствуют укреплению сердечно-сосудистой системы, улучшению обмена веществ и повышению иммунитета. Это снижает риск развития хронических заболеваний, таких как диабет и гипертония.\n",
            "\n",
            "2. **Психологическое благополучие**: Занятия спортом способствуют выработке эндорфинов, которые улучшают настроение и снижают уровень стресса. Это помогает бороться с тревожностью и депрессией.\n",
            "\n",
            "3. **Формирование дисциплины и настойчивости**: Регулярные тренировки требуют самоорганизации и целеустремленности. Эти качества, развиваемые в спорте, могут быть полезны и в других аспектах жизни, включая учебу и карьеру.\n",
            "\n",
            "4. **Социальные связи**: Спорт часто является коллективным занятием, что позволяет завести новых друзей и укрепить старые связи. Командные виды спорта особенно способствуют развитию социальной активности и командного духа.\n",
            "\n",
            "5. **Улучшение физической формы и уверенности в себе**: Регулярные занятия спортом помогают поддерживать оптимальный вес, наращивать мышечную массу и улучшать общую физическую форму. Это, в свою очередь, способствует повышению уверенности в себе и улучшению самовосприятия.\n",
            "\n",
            "================================================================================\n",
            "\n",
            "✨ С штрафами (presence_penalty=0.6, frequency_penalty=0.3):\n",
            "Конечно! Вот пять причин заниматься спортом:\n",
            "\n",
            "1. **Улучшение физического здоровья**: Регулярные занятия спортом способствуют укреплению сердечно-сосудистой системы, развитию мышечной массы, улучшению гибкости и координации, а также помогают поддерживать здоровый вес.\n",
            "\n",
            "2. **Психологическое благополучие**: Физическая активность способствует выработке эндорфинов — гормонов счастья, которые помогают снизить уровень стресса и тревожности, а также улучшают общее настроение.\n",
            "\n",
            "3. **Социальные связи**: Занятия командными видами спорта или групповые тренировки создают возможности для общения и заведения новых знакомств, что способствует укреплению социальных связей.\n",
            "\n",
            "4. **Дисциплина и самоорганизация**: Регулярные тренировки требуют планирования и самодисциплины, что может положительно сказаться на других аспектах жизни, таких как работа или учеба.\n",
            "\n",
            "5. **Увеличение энергии и продуктивности**: Физическая активность повышает уровень энергии и улучшает концентрацию, что позволяет более эффективно справляться с повседневными задачами и достигать поставленных целей.\n",
            "\n",
            "Занимаясь спортом, вы не только улучшаете свое здоровье, но и развиваете личностные качества!\n",
            "\n",
            "📝 Обратите внимание: текст стал более разнообразным, меньше повторяющихся слов и структур\n"
          ]
        }
      ],
      "source": [
        "# presence_penalty и frequency_penalty - штрафы за повторения\n",
        "# presence_penalty: штраф за использование уже встречавшихся токенов (независимо от частоты)\n",
        "# frequency_penalty: штраф пропорциональный частоте появления токена\n",
        "\n",
        "# Диапазон: от -2.0 до 2.0\n",
        "# Положительные значения уменьшают повторения\n",
        "# Отрицательные - наоборот, поощряют повторения\n",
        "\n",
        "response_no_penalty = client.chat.completions.create(\n",
        "    model=\"gpt-4o-mini\",\n",
        "    messages=[{\"role\": \"user\", \"content\": \"Напиши 5 причин заниматься спортом\"}],\n",
        "    temperature=0.7\n",
        ")\n",
        "\n",
        "response_with_penalty = client.chat.completions.create(\n",
        "    model=\"gpt-4o-mini\",\n",
        "    messages=[{\"role\": \"user\", \"content\": \"Напиши 5 причин заниматься спортом\"}],\n",
        "    temperature=0.7,\n",
        "    presence_penalty=0.6,  # Штрафуем за повторения\n",
        "    frequency_penalty=0.3   # Дополнительный штраф за частые повторения\n",
        ")\n",
        "\n",
        "print(\"🔄 Без штрафов за повторения:\")\n",
        "print(response_no_penalty.choices[0].message.content)\n",
        "print(\"\\n\" + \"=\"*80 + \"\\n\")\n",
        "\n",
        "print(\"✨ С штрафами (presence_penalty=0.6, frequency_penalty=0.3):\")\n",
        "print(response_with_penalty.choices[0].message.content)\n",
        "print(\"\\n📝 Обратите внимание: текст стал более разнообразным, меньше повторяющихся слов и структур\")\n"
      ]
    },
    {
      "cell_type": "markdown",
      "metadata": {},
      "source": [
        "---\n",
        "\n",
        "## ✅ Итоги Раздела 2:\n",
        "\n",
        "Мы изучили основные параметры запроса:\n",
        "\n",
        "| Параметр | Диапазон | Назначение | Когда использовать |\n",
        "|----------|----------|------------|-------------------|\n",
        "| **temperature** | 0-2 | Креативность | 0-0.3 для точных задач, 0.7-1.0 для диалогов, 1.5-2.0 для творчества |\n",
        "| **max_tokens** | 1-∞ | Ограничение длины | Для коротких ответов и контроля затрат |\n",
        "| **top_p** | 0-1 | Разнообразие выбора | Альтернатива temperature (не использовать вместе!) |\n",
        "| **n** | 1-∞ | Количество вариантов | Когда нужно несколько альтернатив |\n",
        "| **presence_penalty** | -2 до 2 | Штраф за повторения | Для более разнообразного текста |\n",
        "| **frequency_penalty** | -2 до 2 | Штраф за частые повторения | Вместе с presence_penalty |\n",
        "\n",
        "**💡 Главный совет:** Начинайте с простых параметров (temperature, max_tokens) и добавляйте другие только при необходимости!\n",
        "\n",
        "**Следующий шаг:** Изучим роли в диалоге (system, user, assistant)!\n"
      ]
    },
    {
      "cell_type": "markdown",
      "metadata": {},
      "source": [
        "---\n",
        "\n",
        "# Раздел 3: Структура диалога и роли\n",
        "\n",
        "В OpenAI API диалог состоит из сообщений с разными ролями. Понимание ролей критически важно для эффективной работы с моделью!\n"
      ]
    },
    {
      "cell_type": "markdown",
      "metadata": {},
      "source": [
        "## 3.1 Три основные роли\n",
        "\n",
        "В OpenAI Chat API есть три роли сообщений:\n",
        "\n",
        "### 🎭 **system** - Системное сообщение\n",
        "- **Назначение:** Задает контекст, правила поведения и роль ассистента\n",
        "- **Когда используется:** В начале диалога (обычно первое сообщение)\n",
        "- **Примеры:** \"Ты опытный программист Python\", \"Отвечай кратко и по делу\", \"Ты дружелюбный помощник\"\n",
        "- **Важно:** Сильно влияет на поведение модели на протяжении всего диалога!\n",
        "\n",
        "### 👤 **user** - Сообщение пользователя\n",
        "- **Назначение:** Запросы и вопросы от пользователя\n",
        "- **Когда используется:** Каждый раз, когда пользователь что-то спрашивает\n",
        "- **Примеры:** \"Как создать список в Python?\", \"Расскажи про машинное обучение\"\n",
        "\n",
        "### 🤖 **assistant** - Ответ модели\n",
        "- **Назначение:** Ответы модели на запросы пользователя\n",
        "- **Когда используется:** Автоматически в ответах, или вручную при передаче истории\n",
        "- **Примеры:** Ответы модели, которые вы хотите включить в контекст для следующего запроса\n"
      ]
    },
    {
      "cell_type": "markdown",
      "metadata": {},
      "source": [
        "## 3.2 Запрос без system роли (только user)\n",
        "\n",
        "Самый простой вариант - просто задать вопрос от пользователя:\n"
      ]
    },
    {
      "cell_type": "code",
      "execution_count": 48,
      "metadata": {},
      "outputs": [
        {
          "name": "stdout",
          "output_type": "stream",
          "text": [
            "👤 Только USER роль (без системного промпта):\n",
            "Рекурсия — это метод решения задач, при котором функция вызывает саму себя для обработки подзадач. Это позволяет разбивать сложные проблемы на более простые и решать их последовательно. Рекурсия часто используется в программировании, математике и алгоритмах.\n",
            "\n",
            "Примером рекурсивной функции может служить вычисление факториала числа. Факториал числа n (обозначается n!) равен произведению всех целых чисел от 1 до n. Он может быть определен рекурсивно следующим образом:\n",
            "\n",
            "- Если n = 0, то 0! = 1 (база рекурсии).\n",
            "- Если n > 0, то n! = n * (n - 1)! (рекурсивный случай).\n",
            "\n",
            "Таким образом, функция для вычисления факториала может выглядеть так:\n",
            "\n",
            "```python\n",
            "def factorial(n):\n",
            "    if n == 0:\n",
            "        return 1\n",
            "    else:\n",
            "        return n * factorial(n - 1)\n",
            "```\n",
            "\n",
            "Важно помнить, что рекурсия требует наличия условия выхода (базы рекурсии), чтобы избежать бесконечного вызова функции. В противном случае это приведет к переполнению стека и ошибке выполнения.\n"
          ]
        }
      ],
      "source": [
        "# Только роль user\n",
        "response = client.chat.completions.create(\n",
        "    model=\"gpt-4o-mini\",\n",
        "    messages=[\n",
        "        {\"role\": \"user\", \"content\": \"Объясни что такое рекурсия\"}\n",
        "    ],\n",
        "    temperature=0.7\n",
        ")\n",
        "\n",
        "print(\"👤 Только USER роль (без системного промпта):\")\n",
        "print(response.choices[0].message.content)\n"
      ]
    },
    {
      "cell_type": "markdown",
      "metadata": {},
      "source": [
        "## 3.3 Добавляем system роль\n",
        "\n",
        "System роль позволяет задать поведение и стиль ответов модели:\n"
      ]
    },
    {
      "cell_type": "code",
      "execution_count": 49,
      "metadata": {},
      "outputs": [
        {
          "name": "stdout",
          "output_type": "stream",
          "text": [
            "🎭 SYSTEM + USER (объяснение для ребенка):\n",
            "Представь, что у тебя есть очень высокая лестница, и ты хочешь забраться на самый верх. Но вместо того, чтобы сразу прыгнуть на верхнюю ступеньку, ты поднимаешься по одной ступеньке за раз. \n",
            "\n",
            "Рекурсия — это как если бы ты встречал себя на каждой ступеньке и спрашивал: \"Как мне подняться на следующую ступеньку?\" И твой \"внутренний голос\" говорит: \"Поднимись на одну ступеньку выше, а потом снова спроси меня, как подняться на следующую.\"\n",
            "\n",
            "Таким образом, каждый раз, когда ты поднимаешься на одну ступеньку, ты задаешь тот же вопрос, пока не достигнешь самой верхней ступеньки. Это как если бы ты повторял одно и то же действие снова и снова, пока не достигнешь своей цели.\n",
            "\n",
            "Вот еще один пример: представь, что ты играешь в игру, где нужно сложить все игрушки в комнате. Ты можешь взять одну игрушку и сказать: \"Теперь я уберу остальные игрушки.\" И когда ты уберешь одну, ты снова смотришь на остальные и спрашиваешь: \"Как мне убрать их?\" И так ты продолжаешь убирать одну игрушку за другой, пока комната не станет чистой.\n",
            "\n",
            "Таким образом, рекурсия — это когда мы решаем задачу, разбивая ее на более простые части и повторяя процесс до тех пор, пока не дойдем до самого простого решения!\n",
            "\n",
            "================================================================================\n",
            "\n"
          ]
        }
      ],
      "source": [
        "# С system ролью - объясняем как для ребенка\n",
        "response_child = client.chat.completions.create(\n",
        "    model=\"gpt-4o-mini\",\n",
        "    messages=[\n",
        "        {\"role\": \"system\", \"content\": \"Ты учитель, который объясняет сложные вещи простым языком для детей 7 лет. Используй примеры из жизни и аналогии.\"},\n",
        "        {\"role\": \"user\", \"content\": \"Объясни что такое рекурсия\"}\n",
        "    ],\n",
        "    temperature=0.7\n",
        ")\n",
        "\n",
        "print(\"🎭 SYSTEM + USER (объяснение для ребенка):\")\n",
        "print(response_child.choices[0].message.content)\n",
        "print(\"\\n\" + \"=\"*80 + \"\\n\")\n"
      ]
    },
    {
      "cell_type": "code",
      "execution_count": 50,
      "metadata": {},
      "outputs": [
        {
          "name": "stdout",
          "output_type": "stream",
          "text": [
            "🎭 SYSTEM + USER (технический стиль):\n",
            "Рекурсия — это метод программирования, при котором функция вызывает саму себя для решения подзадачи. Рекурсия часто используется для решения задач, которые можно разбить на более мелкие подзадачи того же типа.\n",
            "\n",
            "Ключевые моменты рекурсии:\n",
            "\n",
            "1. **Базовый случай**: Условие, при котором рекурсия прекращается.\n",
            "2. **Рекурсивный случай**: Условие, при котором функция вызывает саму себя.\n",
            "\n",
            "Пример рекурсивной функции для вычисления факториала числа:\n",
            "\n",
            "```python\n",
            "def factorial(n):\n",
            "    if n == 0:  # Базовый случай\n",
            "        return 1\n",
            "    else:  # Рекурсивный случай\n",
            "        return n * factorial(n - 1)\n",
            "\n",
            "# Пример вызова\n",
            "print(factorial(5))  # Вывод: 120\n",
            "```\n",
            "\n",
            "В этом примере `factorial(5)` вызывает `factorial(4)`, затем `factorial(3)`, и так далее, пока не достигнет базового случая `factorial(0)`, после чего начинает возвращать значения обратно.\n",
            "\n",
            "================================================================================\n",
            "\n"
          ]
        }
      ],
      "source": [
        "# С system ролью - технический стиль\n",
        "response_tech = client.chat.completions.create(\n",
        "    model=\"gpt-4o-mini\",\n",
        "    messages=[\n",
        "        {\"role\": \"system\", \"content\": \"Ты опытный программист. Отвечай технически точно, с примерами кода. Будь кратким и конкретным.\"},\n",
        "        {\"role\": \"user\", \"content\": \"Объясни что такое рекурсия\"}\n",
        "    ],\n",
        "    temperature=0.7\n",
        ")\n",
        "\n",
        "print(\"🎭 SYSTEM + USER (технический стиль):\")\n",
        "print(response_tech.choices[0].message.content)\n",
        "print(\"\\n\" + \"=\"*80 + \"\\n\")\n"
      ]
    },
    {
      "cell_type": "code",
      "execution_count": 51,
      "metadata": {},
      "outputs": [
        {
          "name": "stdout",
          "output_type": "stream",
          "text": [
            "🎭 SYSTEM + USER (поэтический стиль):\n",
            "Рекурсия — это словно сказочный лес, в который вы входите и находите не только себя, но и отражения своих мыслей, каждое из которых ведёт к новому, ожидая, что вы разрешите загадку. \n",
            "\n",
            "Представьте себе, что вы стоите перед зеркалом и видите своё собственное отражение. Но это не простое отражение — оно указывает на ещё одно зеркало, в котором вы снова видите себя, и так далее, вплоть до бесконечности. В этом танце отражений, каждое ваше движение становится преддверием нового открытия, каждый шаг — шагом вглубь, к сути, скрытой за занавесом простоты.\n",
            "\n",
            "Так и рекурсия в программировании: функция, обращаясь к самой себе, ставит перед собой задачу, словно искатель находит себя в лабиринте, где каждое решение помогает продвигаться к выходу. Это бесконечный процесс, способный разложить самую сложную задачу на простые элементы, как новый листик на ветке, который растёт из корня, прорастая к свету.\n",
            "\n",
            "В этом круговороте повторений сокрыта великая истина: через самообращение, через возвращение к началу, мы достигаем глубин понимания и созидания. Рекурсия — это путь, где каждый шаг, каждая итерация становится маленьким шажком к великому смыслу.\n",
            "\n",
            "📝 Вывод: System роль КАРДИНАЛЬНО меняет стиль и содержание ответов!\n"
          ]
        }
      ],
      "source": [
        "# С system ролью - поэтический стиль  \n",
        "response_poet = client.chat.completions.create(\n",
        "    model=\"gpt-4o-mini\",\n",
        "    messages=[\n",
        "        {\"role\": \"system\", \"content\": \"Ты поэт и философ. Отвечай красиво, метафорично, используя художественные образы.\"},\n",
        "        {\"role\": \"user\", \"content\": \"Объясни что такое рекурсия\"}\n",
        "    ],\n",
        "    temperature=0.9\n",
        ")\n",
        "\n",
        "print(\"🎭 SYSTEM + USER (поэтический стиль):\")\n",
        "print(response_poet.choices[0].message.content)\n",
        "\n",
        "print(\"\\n📝 Вывод: System роль КАРДИНАЛЬНО меняет стиль и содержание ответов!\")\n"
      ]
    },
    {
      "cell_type": "markdown",
      "metadata": {},
      "source": [
        "## 3.4 Роль assistant - направляем диалог\n",
        "\n",
        "Роль `assistant` используется двумя способами:\n",
        "1. **Автоматически** - модель отвечает от роли assistant\n",
        "2. **Вручную** - мы можем задать желаемый стиль ответа через \"пример\" от assistant\n",
        "\n",
        "Второй способ особенно полезен для задания формата и стиля ответов:\n"
      ]
    },
    {
      "cell_type": "code",
      "execution_count": 52,
      "metadata": {},
      "outputs": [
        {
          "name": "stdout",
          "output_type": "stream",
          "text": [
            "🎯 Направляем ответ через частичный assistant:\n",
            "Ассистент начал: 'Списки в Python - это:'\n",
            "Модель продолжила: Списки в Python - это встроенные структуры данных, которые позволяют хранить последовательности элементов. Они являются изменяемыми (мутабельными), что означает, что вы можете изменять их содержимое после создания. Основные характеристики и функции списков в Python включают:\n",
            "\n",
            "### 1. Создание списков\n",
            "Списки создаются с помощью квадратных скобок `[]`, внутри которых элементы разделяются запятыми. Например:\n",
            "\n",
            "```python\n",
            "my_list = [1, 2, 3, 4, 5]\n",
            "fruits = [\"apple\", \"banana\", \"cherry\"]\n",
            "mixed_list = [1, \"hello\", 3.14, True]\n",
            "```\n",
            "\n",
            "### 2. Индексация\n",
            "Элементы списка индексируются, начиная с 0. Вы можете получить доступ к элементам списка, используя их индексы:\n",
            "\n",
            "```python\n",
            "print(my_list[0])  # Вывод: 1\n",
            "print(fruits[1])   # Вывод: banana\n",
            "```\n",
            "\n",
            "Вы также можете использовать отрицательные индексы для доступа к элементам с конца списка:\n",
            "\n",
            "```python\n",
            "print(my_list[-1])  # Вывод: 5 (последний элемент)\n",
            "```\n",
            "\n",
            "### 3. Изменение элементов\n",
            "Списки изменяемы, поэтому вы можете изменять отдельные элементы:\n",
            "\n",
            "```python\n",
            "my_list[0] = 10\n",
            "print(my_list)  # Вывод: [10, 2, 3, 4, 5]\n",
            "```\n",
            "\n",
            "### 4. Добавление и удаление элементов\n",
            "Списки предоставляют методы для добавления и удаления элементов:\n",
            "\n",
            "- Метод `append()` добавляет элемент в конец списка:\n",
            "\n",
            "```python\n",
            "fruits.append(\"orange\")\n",
            "print(fruits)  # Вывод: [\"apple\", \"banana\", \"cherry\", \"orange\"]\n",
            "```\n",
            "\n",
            "- Метод `insert()` вставляет элемент в заданную позицию:\n",
            "\n",
            "```python\n",
            "fruits.insert(1, \"kiwi\")\n",
            "print(fruits)  # Вывод: [\"apple\", \"kiwi\", \"banana\", \"cherry\", \"orange\"]\n",
            "```\n",
            "\n",
            "- Метод `remove()` удаляет первый найденный элемент с указанным значением:\n",
            "\n",
            "```python\n",
            "fruits.remove(\"banana\")\n",
            "print(fruits)  # Вывод: [\"apple\", \"kiwi\", \"cherry\", \"orange\"]\n",
            "```\n",
            "\n",
            "- Метод `pop()` удаляет и возвращает элемент по заданному индексу (по умолчанию последний):\n",
            "\n",
            "```python\n",
            "last_fruit = fruits.pop()\n",
            "print(last_fruit)  # Вывод: orange\n",
            "print(fruits)      # Вывод: [\"apple\", \"kiwi\", \"cherry\"]\n",
            "```\n",
            "\n",
            "### 5. Срезы\n",
            "Вы можете извлекать подсписки, используя срезы:\n",
            "\n",
            "```python\n",
            "sub_list = my_list[1:4]  # Элементы с индексами 1, 2 и 3\n",
            "print(sub_list)  # Вывод: [2, 3, 4]\n",
            "```\n",
            "\n",
            "### 6. Длина списка\n",
            "Вы можете узнать количество элементов в списке с помощью функции `len()`:\n",
            "\n",
            "```python\n",
            "length = len(fruits)\n",
            "print(length)  # Вывод: 3\n",
            "```\n",
            "\n",
            "### 7. Итерация по спискам\n",
            "Вы можете перебирать элементы списка с помощью цикла `for`:\n",
            "\n",
            "```python\n",
            "for fruit in fruits:\n",
            "    print(fruit)\n",
            "```\n",
            "\n",
            "### 8. Списковые выражения\n",
            "Списки также поддерживают списковые выражения (list comprehensions), которые позволяют создавать новые списки из существующих:\n",
            "\n",
            "```python\n",
            "squares = [x**2 for x in range(10)]\n",
            "print(squares)  # Вывод: [0, 1, 4, 9, 16, 25, 36, 49, 64, 81]\n",
            "```\n",
            "\n",
            "### Заключение\n",
            "Списки являются мощным инструментом для работы с последовательностями данных в Python. Они предоставляют множество методов и возможностей для манипуляции данными, что делает их одним из самых популярных типов данных в языке.\n",
            "\n",
            "================================================================================\n",
            "\n"
          ]
        }
      ],
      "source": [
        "# Пример: задаем начало ответа через assistant роль\n",
        "response_guided = client.chat.completions.create(\n",
        "    model=\"gpt-4o-mini\",\n",
        "    messages=[\n",
        "        {\"role\": \"system\", \"content\": \"Ты эксперт по Python.\"},\n",
        "        {\"role\": \"user\", \"content\": \"Расскажи про списки в Python\"},\n",
        "        {\"role\": \"assistant\", \"content\": \"Списки в Python - это:\"} # Начинаем ответ за модель\n",
        "    ],\n",
        "    temperature=0.7\n",
        ")\n",
        "\n",
        "print(\"🎯 Направляем ответ через частичный assistant:\")\n",
        "print(\"Ассистент начал: 'Списки в Python - это:'\")\n",
        "print(\"Модель продолжила:\", response_guided.choices[0].message.content)\n",
        "print(\"\\n\" + \"=\"*80 + \"\\n\")\n"
      ]
    },
    {
      "cell_type": "code",
      "execution_count": 53,
      "metadata": {},
      "outputs": [
        {
          "name": "stdout",
          "output_type": "stream",
          "text": [
            "🎯 Принуждаем к JSON формату через assistant:\n",
            "Ассистент начал: '{'\n",
            "Модель продолжила: {\n",
            "  \"error\": \"Не удается получить данные о погоде в реальном времени.\"\n",
            "}\n",
            "\n",
            "💡 Этот трюк помогает получать структурированные ответы!\n"
          ]
        }
      ],
      "source": [
        "# Пример: принудительное форматирование JSON через assistant\n",
        "response_json = client.chat.completions.create(\n",
        "    model=\"gpt-4o-mini\",\n",
        "    messages=[\n",
        "        {\"role\": \"system\", \"content\": \"Ты API, который всегда отвечает в формате JSON.\"},\n",
        "        {\"role\": \"user\", \"content\": \"Какая сейчас погода в Москве?\"},\n",
        "        {\"role\": \"assistant\", \"content\": \"{\"} # Принуждаем начать с JSON\n",
        "    ],\n",
        "    temperature=0.7,\n",
        "    max_tokens=100\n",
        ")\n",
        "\n",
        "print(\"🎯 Принуждаем к JSON формату через assistant:\")\n",
        "print(\"Ассистент начал: '{'\")\n",
        "print(\"Модель продолжила:\", response_json.choices[0].message.content)\n",
        "print(\"\\n💡 Этот трюк помогает получать структурированные ответы!\")\n"
      ]
    },
    {
      "cell_type": "markdown",
      "metadata": {},
      "source": [
        "---\n",
        "\n",
        "## ✅ Итоги Раздела 3:\n",
        "\n",
        "Мы изучили три роли в диалоге:\n",
        "\n",
        "| Роль | Назначение | Когда использовать |\n",
        "|------|------------|-------------------|\n",
        "| **system** | Задает контекст и правила | В начале диалога, для настройки поведения модели |\n",
        "| **user** | Запросы пользователя | Каждый вопрос или команда от пользователя |\n",
        "| **assistant** | Ответы модели | Автоматически в ответах, или вручную для направления формата |\n",
        "\n",
        "**💡 Ключевые выводы:**\n",
        "- System роль - мощный инструмент управления поведением!\n",
        "- Одинаковый вопрос с разными system промптами даст совершенно разные ответы\n",
        "- Assistant роль можно использовать для \"подсказки\" желаемого формата ответа\n",
        "\n",
        "**Следующий шаг:** Создадим простой чат и посмотрим на разные типы задач!\n"
      ]
    },
    {
      "cell_type": "markdown",
      "metadata": {},
      "source": [
        "---\n",
        "\n",
        "# Раздел 4: Простой чат без истории\n",
        "\n",
        "Давайте посмотрим на разные типы задач, которые можно решать с помощью OpenAI API. Пока без сохранения истории - каждый запрос независимый.\n"
      ]
    },
    {
      "cell_type": "markdown",
      "metadata": {},
      "source": [
        "## 4.1 Генерация контента\n",
        "\n",
        "Модель отлично справляется с созданием различного контента:\n"
      ]
    },
    {
      "cell_type": "code",
      "execution_count": 54,
      "metadata": {},
      "outputs": [
        {
          "name": "stdout",
          "output_type": "stream",
          "text": [
            "📝 Генерация контента (Instagram пост):\n",
            "🌊✨ Открытие нового кафе с захватывающим видом на море! ☕️🥐\n",
            "\n",
            "Дорогие друзья! Мы рады пригласить вас в наше уютное место, где каждый глоток ароматного кофе и каждая вкусная закуска становятся настоящим удовольствием. Наслаждайтесь свежим бризом и панорамными видами на океан, сидя на террасе с любимыми людьми. 🌅❤️\n",
            "\n",
            "Приходите на дегустацию наших авторских блюд и напитков! Мы уверены, что это станет вашим новым любимым местом. 🍽️💙\n",
            "\n",
            "#КафеНаМорe #КофеСВидом #Уют #НоваяЛокация #МорскиеВпечатления\n",
            "\n"
          ]
        }
      ],
      "source": [
        "response = client.chat.completions.create(\n",
        "    model=\"gpt-4o-mini\",\n",
        "    messages=[\n",
        "        {\"role\": \"system\", \"content\": \"Ты креативный копирайтер.\"},\n",
        "        {\"role\": \"user\", \"content\": \"Напиши короткий пост для Instagram о новом кафе с видом на море\"}\n",
        "    ],\n",
        "    temperature=0.8\n",
        ")\n",
        "\n",
        "print(\"📝 Генерация контента (Instagram пост):\")\n",
        "print(response.choices[0].message.content)\n",
        "print()\n"
      ]
    },
    {
      "cell_type": "markdown",
      "metadata": {},
      "source": [
        "## 4.2 Анализ и классификация\n",
        "\n",
        "Модель может анализировать текст и классифицировать его:\n"
      ]
    },
    {
      "cell_type": "code",
      "execution_count": 55,
      "metadata": {},
      "outputs": [
        {
          "name": "stdout",
          "output_type": "stream",
          "text": [
            "🔍 Анализ тональности отзыва:\n",
            "Отзыв: Ужасное обслуживание! Ждали заказ 2 часа, еда пришла холодная. Больше никогда сюда не вернемся!\n",
            "Тональность: Негативный\n",
            "\n"
          ]
        }
      ],
      "source": [
        "review_text = \"Ужасное обслуживание! Ждали заказ 2 часа, еда пришла холодная. Больше никогда сюда не вернемся!\"\n",
        "\n",
        "response = client.chat.completions.create(\n",
        "    model=\"gpt-4o-mini\",\n",
        "    messages=[\n",
        "        {\"role\": \"system\", \"content\": \"Ты анализируешь тональность отзывов. Отвечай одним словом: позитивный, негативный или нейтральный.\"},\n",
        "        {\"role\": \"user\", \"content\": f\"Определи тональность отзыва: {review_text}\"}\n",
        "    ],\n",
        "    temperature=0  # Детерминированный ответ для классификации\n",
        ")\n",
        "\n",
        "print(\"🔍 Анализ тональности отзыва:\")\n",
        "print(f\"Отзыв: {review_text}\")\n",
        "print(f\"Тональность: {response.choices[0].message.content}\")\n",
        "print()\n"
      ]
    },
    {
      "cell_type": "markdown",
      "metadata": {},
      "source": [
        "## 4.3 Извлечение информации\n",
        "\n",
        "Модель может извлекать структурированную информацию из неструктурированного текста:\n"
      ]
    },
    {
      "cell_type": "code",
      "execution_count": 57,
      "metadata": {},
      "outputs": [
        {
          "name": "stdout",
          "output_type": "stream",
          "text": [
            "📋 Извлечение структурированных данных:\n",
            "Имя: Иван Петров  \n",
            "Возраст: 28  \n",
            "Профессия: software engineer  \n",
            "Email: ivan.petrov@techcorp.com  \n",
            "Телефон: +7-999-123-45-67  \n",
            "Город: Москва  \n",
            "Хобби: программировать на Python, играть на гитаре  \n",
            "\n"
          ]
        }
      ],
      "source": [
        "text = \"\"\"\n",
        "Меня зовут Иван Петров, мне 28 лет. Работаю software engineer в компании TechCorp. \n",
        "Мой email: ivan.petrov@techcorp.com, телефон: +7-999-123-45-67.\n",
        "Живу в Москве, люблю программировать на Python и играть на гитаре.\n",
        "\"\"\"\n",
        "\n",
        "response = client.chat.completions.create(\n",
        "    model=\"gpt-4o-mini\",\n",
        "    messages=[\n",
        "        {\"role\": \"system\", \"content\": \"Извлеки из текста информацию и верни в формате: Имя, Возраст, Профессия, Email, Телефон, Город, Хобби. Каждый пункт с новой строки.\"},\n",
        "        {\"role\": \"user\", \"content\": text}\n",
        "    ],\n",
        "    temperature=0\n",
        ")\n",
        "\n",
        "print(\"📋 Извлечение структурированных данных:\")\n",
        "print(response.choices[0].message.content)\n",
        "print()\n"
      ]
    },
    {
      "cell_type": "markdown",
      "metadata": {},
      "source": [
        "## 4.4 Перевод\n",
        "\n",
        "Модель превосходно переводит между языками:\n"
      ]
    },
    {
      "cell_type": "code",
      "execution_count": 58,
      "metadata": {},
      "outputs": [
        {
          "name": "stdout",
          "output_type": "stream",
          "text": [
            "🌐 Перевод:\n",
            "\"I love studying artificial intelligence and machine learning. It's an amazing field that is changing the world!\"\n",
            "\n"
          ]
        }
      ],
      "source": [
        "response = client.chat.completions.create(\n",
        "    model=\"gpt-4o-mini\",\n",
        "    messages=[\n",
        "        {\"role\": \"system\", \"content\": \"Ты профессиональный переводчик. Переводи точно, сохраняя стиль и смысл.\"},\n",
        "        {\"role\": \"user\", \"content\": \"Переведи на английский: 'Я люблю изучать искусственный интеллект и машинное обучение. Это удивительная область, которая меняет мир!'\"}\n",
        "    ],\n",
        "    temperature=0.3\n",
        ")\n",
        "\n",
        "print(\"🌐 Перевод:\")\n",
        "print(response.choices[0].message.content)\n",
        "print()\n"
      ]
    },
    {
      "cell_type": "markdown",
      "metadata": {},
      "source": [
        "## 4.5 Помощь с кодом\n",
        "\n",
        "Модель отлично помогает с программированием:\n"
      ]
    },
    {
      "cell_type": "code",
      "execution_count": 59,
      "metadata": {},
      "outputs": [
        {
          "name": "stdout",
          "output_type": "stream",
          "text": [
            "💻 Генерация кода:\n",
            "Конечно! Вот пример функции на Python, которая находит все простые числа до заданного числа \\( N \\). Мы будем использовать алгоритм \"Решето Эратосфена\", который является эффективным способом нахождения всех простых чисел до заданного предела.\n",
            "\n",
            "```python\n",
            "def find_primes_up_to_n(n):\n",
            "    \"\"\"\n",
            "    Находит все простые числа до заданного числа n.\n",
            "\n",
            "    :param n: Верхний предел (включительно) для поиска простых чисел.\n",
            "    :return: Список простых чисел до n.\n",
            "    \"\"\"\n",
            "    if n < 2:\n",
            "        return []  # Простых чисел нет, если n меньше 2\n",
            "\n",
            "    # Инициализируем список, где индекс будет представлять число,\n",
            "    # а значение - True (число простое) или False (число составное)\n",
            "    is_prime = [True] * (n + 1)\n",
            "    is_prime[0] = is_prime[1] = False  # 0 и 1 не являются простыми числами\n",
            "\n",
            "    # Начинаем с первого простого числа, 2\n",
            "    for i in range(2, int(n**0.5) + 1):\n",
            "        if is_prime[i]:  # Если i - простое число\n",
            "            # Обнуляем все кратные i, начиная с i*i\n",
            "            for j in range(i * i, n + 1, i):\n",
            "                is_prime[j] = False\n",
            "\n",
            "    # Собираем все простые числа в список\n",
            "    primes = [i for i in range(n + 1) if is_prime[i]]\n",
            "    return primes\n",
            "\n",
            "# Пример использования функции\n",
            "n = 30\n",
            "print(f\"Простые числа до {n}: {find_primes_up_to_n(n)}\")\n",
            "```\n",
            "\n",
            "### Объяснение кода:\n",
            "1. **Проверка на минимальное значение**: Если \\( N < 2 \\), возвращаем пустой список, так как простых чисел не существует.\n",
            "2. **Инициализация списка**: Создаем список `is_prime`, где каждый индекс соответствует числу, а значение `True` означает, что число считается простым.\n",
            "3. **Алгоритм Решето Эратосфена**:\n",
            "   - Проходим по всем числам от 2 до квадратного корня из \\( N \\).\n",
            "   - Если текущее число `i` является простым (т.е. `is_prime[i]` равно `True`), обнуляем все его кратные, начиная с \\( i^2 \\).\n",
            "4. **Сбор простых чисел**: Используем списковое включение для создания списка всех чисел, которые остались помеченными как простые.\n",
            "\n",
            "Этот код эффективно находит все простые числа до заданного числа \\( N \\).\n",
            "\n"
          ]
        }
      ],
      "source": [
        "response = client.chat.completions.create(\n",
        "    model=\"gpt-4o-mini\",\n",
        "    messages=[\n",
        "        {\"role\": \"system\", \"content\": \"Ты эксперт по Python. Пиши чистый, понятный код с комментариями.\"},\n",
        "        {\"role\": \"user\", \"content\": \"Напиши функцию, которая находит все простые числа до N\"}\n",
        "    ],\n",
        "    temperature=0.2\n",
        ")\n",
        "\n",
        "print(\"💻 Генерация кода:\")\n",
        "print(response.choices[0].message.content)\n",
        "print()\n"
      ]
    },
    {
      "cell_type": "markdown",
      "metadata": {},
      "source": [
        "---\n",
        "\n",
        "## ✅ Итоги Раздела 4:\n",
        "\n",
        "Мы рассмотрели основные типы задач для LLM:\n",
        "\n",
        "| Тип задачи | Temperature | Примеры |\n",
        "|-----------|-------------|---------|\n",
        "| **Генерация контента** | 0.7-1.2 | Посты, статьи, стихи, идеи |\n",
        "| **Анализ и классификация** | 0-0.3 | Тональность, категории, метки |\n",
        "| **Извлечение информации** | 0-0.2 | Парсинг текста, выделение данных |\n",
        "| **Перевод** | 0.2-0.5 | Перевод между языками |\n",
        "| **Помощь с кодом** | 0-0.3 | Генерация, объяснение, рефакторинг кода |\n",
        "\n",
        "**💡 Правило:** Чем точнее нужен результат, тем ниже temperature!\n",
        "\n",
        "**Следующий шаг:** Сравним разные модели и провайдеров на одной задаче!\n"
      ]
    },
    {
      "cell_type": "markdown",
      "metadata": {},
      "source": [
        "---\n",
        "\n",
        "# Раздел 5: Сравнение моделей и провайдеров\n",
        "\n",
        "Одна из главных фишек OpenAI API - это то, что он стал стандартом де-факто. Множество провайдеров используют совместимый интерфейс, что позволяет легко переключаться между моделями!\n",
        "\n",
        "В этом разделе мы:\n",
        "- Сравним разные модели OpenAI\n",
        "- Подключим OpenRouter для доступа к моделям других провайдеров (Anthropic, Google, Meta)\n",
        "- Увидим разницу между сильными и слабыми моделями\n",
        "- Попробуем reasoning модель (o1-mini)\n",
        "\n",
        "**🎯 Цель:** Показать, что смена модели - это всего 2 строки кода!\n"
      ]
    },
    {
      "cell_type": "markdown",
      "metadata": {},
      "source": [
        "## 5.1 Тестовая задача\n",
        "\n",
        "Используем задачу, где видна разница между моделями - логическую головоломку:\n"
      ]
    },
    {
      "cell_type": "code",
      "execution_count": 66,
      "metadata": {},
      "outputs": [
        {
          "name": "stdout",
          "output_type": "stream",
          "text": [
            "📝 Тестовая задача для сравнения моделей:\n",
            "\n",
            "У Маши было 5 яблок. Она отдала 2 яблока Пете, а потом купила еще 3 яблока.\n",
            "Петя съел 1 яблоко и отдал половину оставшихся яблок обратно Маше.\n",
            "\n",
            "Вопросы:\n",
            "1. Сколько яблок сейчас у Маши?\n",
            "2. Сколько яблок сейчас у Пети?\n",
            "3. Покажи пошаговое решение.\n",
            "\n",
            "Отвечай кратко и структурированно.\n",
            "\n"
          ]
        }
      ],
      "source": [
        "# Задача, которая покажет разницу между моделями\n",
        "test_prompt = \"\"\"\n",
        "У Маши было 5 яблок. Она отдала 2 яблока Пете, а потом купила еще 3 яблока.\n",
        "Петя съел 1 яблоко и отдал половину оставшихся яблок обратно Маше.\n",
        "\n",
        "Вопросы:\n",
        "1. Сколько яблок сейчас у Маши?\n",
        "2. Сколько яблок сейчас у Пети?\n",
        "3. Покажи пошаговое решение.\n",
        "\n",
        "Отвечай кратко и структурированно.\n",
        "\"\"\"\n",
        "\n",
        "print(\"📝 Тестовая задача для сравнения моделей:\")\n",
        "print(test_prompt)\n"
      ]
    },
    {
      "cell_type": "markdown",
      "metadata": {},
      "source": [
        "## 5.2 Модели OpenAI\n",
        "\n",
        "Начнем с моделей OpenAI - просто меняем параметр `model`:\n"
      ]
    },
    {
      "cell_type": "code",
      "execution_count": 67,
      "metadata": {},
      "outputs": [
        {
          "name": "stdout",
          "output_type": "stream",
          "text": [
            "🤖 GPT-3.5-turbo (базовая, старая модель):\n",
            "Ответы:\n",
            "1. У Маши сейчас 6 яблок.\n",
            "2. У Пети сейчас 1 яблоко.\n",
            "\n",
            "Пошаговое решение:\n",
            "1. У Маши было 5 яблок.\n",
            "2. Она отдала 2 яблока Пете, осталось 5 - 2 = 3 яблока.\n",
            "3. Потом Маша купила еще 3 яблока, итого 3 + 3 = 6 яблок у Маши.\n",
            "4. Петя съел 1 яблоко, осталось 6 - 1 = 5 яблок у Маши.\n",
            "5. Петя отдал половину оставшихся яблок обратно Маше, то есть 5 / 2 = 2 яблока.\n",
            "6. Итого у Пети осталось 1 яблоко.\n",
            "\n",
            "📊 Токены: 401\n",
            "================================================================================\n",
            "\n"
          ]
        }
      ],
      "source": [
        "# GPT-3.5-turbo - базовая модель\n",
        "response_gpt35 = client.chat.completions.create(\n",
        "    model=\"gpt-3.5-turbo\",\n",
        "    messages=[{\"role\": \"user\", \"content\": test_prompt}],\n",
        "    temperature=0\n",
        ")\n",
        "\n",
        "print(\"🤖 GPT-3.5-turbo (базовая, старая модель):\")\n",
        "print(response_gpt35.choices[0].message.content)\n",
        "print(f\"\\n📊 Токены: {response_gpt35.usage.total_tokens}\")\n",
        "print(\"=\"*80 + \"\\n\")\n"
      ]
    },
    {
      "cell_type": "code",
      "execution_count": 68,
      "metadata": {},
      "outputs": [
        {
          "name": "stdout",
          "output_type": "stream",
          "text": [
            "🤖 GPT-4o-mini (быстрая, умная, дешевая):\n",
            "### Пошаговое решение:\n",
            "\n",
            "1. **Начальное количество яблок у Маши:**\n",
            "   - У Маши было 5 яблок.\n",
            "\n",
            "2. **Маша отдала 2 яблока Пете:**\n",
            "   - Яблоки у Маши: 5 - 2 = 3 яблока.\n",
            "   - Яблоки у Пети: 2 яблока.\n",
            "\n",
            "3. **Маша купила еще 3 яблока:**\n",
            "   - Яблоки у Маши: 3 + 3 = 6 яблок.\n",
            "\n",
            "4. **Петя съел 1 яблоко:**\n",
            "   - Яблоки у Пети: 2 - 1 = 1 яблоко.\n",
            "\n",
            "5. **Петя отдал половину оставшихся яблок Маше:**\n",
            "   - Половина яблок у Пети: 1 / 2 = 0.5 (но он не может отдать половину яблока, поэтому он отдает 0 яблок).\n",
            "   - Яблоки у Пети остаются: 1 яблоко.\n",
            "   - Яблоки у Маши: 6 + 0 = 6 яблок.\n",
            "\n",
            "### Ответы:\n",
            "1. **Сколько яблок сейчас у Маши?** 6 яблок.\n",
            "2. **Сколько яблок сейчас у Пети?** 1 яблоко.\n",
            "\n",
            "📊 Токены: 406\n",
            "================================================================================\n",
            "\n"
          ]
        }
      ],
      "source": [
        "# GPT-4o-mini - быстрая и умная модель\n",
        "response_gpt4mini = client.chat.completions.create(\n",
        "    model=\"gpt-4o-mini\",\n",
        "    messages=[{\"role\": \"user\", \"content\": test_prompt}],\n",
        "    temperature=0\n",
        ")\n",
        "\n",
        "print(\"🤖 GPT-4o-mini (быстрая, умная, дешевая):\")\n",
        "print(response_gpt4mini.choices[0].message.content)\n",
        "print(f\"\\n📊 Токены: {response_gpt4mini.usage.total_tokens}\")\n",
        "print(\"=\"*80 + \"\\n\")\n"
      ]
    },
    {
      "cell_type": "code",
      "execution_count": 63,
      "metadata": {},
      "outputs": [
        {
          "name": "stdout",
          "output_type": "stream",
          "text": [
            "🤖 GPT-4o (топовая модель OpenAI):\n",
            "1. Сколько яблок сейчас у Маши?\n",
            "\n",
            "- У Маши было 5 яблок.\n",
            "- Она отдала 2 яблока Пете: 5 - 2 = 3 яблока.\n",
            "- Купила еще 3 яблока: 3 + 3 = 6 яблок.\n",
            "- Петя отдал половину оставшихся яблок обратно Маше. Сначала найдем, сколько яблок у Пети.\n",
            "\n",
            "2. Сколько яблок сейчас у Пети?\n",
            "\n",
            "- Петя получил 2 яблока от Маши.\n",
            "- Съел 1 яблоко: 2 - 1 = 1 яблоко.\n",
            "- Отдал половину оставшихся (1 яблоко) обратно Маше: 1 / 2 = 0.5, но так как яблоки целые, он отдал 1 яблоко.\n",
            "\n",
            "Теперь вернемся к Маше:\n",
            "\n",
            "- Маше вернулось 1 яблоко от Пети: 6 + 1 = 7 яблок.\n",
            "\n",
            "Итак, окончательные ответы:\n",
            "\n",
            "1. У Маши сейчас 7 яблок.\n",
            "2. У Пети сейчас 0 яблок.\n",
            "\n",
            "📊 Токены: 355\n",
            "================================================================================\n",
            "\n"
          ]
        }
      ],
      "source": [
        "# GPT-4o - топовая модель\n",
        "response_gpt4o = client.chat.completions.create(\n",
        "    model=\"gpt-4o\",\n",
        "    messages=[{\"role\": \"user\", \"content\": test_prompt}],\n",
        "    temperature=0\n",
        ")\n",
        "\n",
        "print(\"🤖 GPT-4o (топовая модель OpenAI):\")\n",
        "print(response_gpt4o.choices[0].message.content)\n",
        "print(f\"\\n📊 Токены: {response_gpt4o.usage.total_tokens}\")\n",
        "print(\"=\"*80 + \"\\n\")\n"
      ]
    },
    {
      "cell_type": "markdown",
      "metadata": {},
      "source": [
        "## 5.3 Подключаем OpenRouter\n",
        "\n",
        "OpenRouter - это агрегатор, который дает доступ к моделям разных провайдеров через единый API, совместимый с OpenAI!\n",
        "\n",
        "**Преимущества:**\n",
        "- Единый API для десятков моделей (OpenAI, Anthropic, Google, Meta, и др.)\n",
        "- Не нужно регистрироваться у каждого провайдера\n",
        "- Единая система оплаты\n",
        "- Легкое переключение между моделями\n",
        "\n",
        "**Как подключить:**\n",
        "1. Зарегистрируйтесь на https://openrouter.ai/\n",
        "2. Получите API ключ\n",
        "3. Добавьте в `.env`: `OPENROUTER_API_KEY=sk-or-...`\n"
      ]
    },
    {
      "cell_type": "code",
      "execution_count": 75,
      "metadata": {},
      "outputs": [
        {
          "name": "stdout",
          "output_type": "stream",
          "text": [
            "✅ OpenRouter клиент создан!\n",
            "🎯 Теперь у нас доступ к моделям: Anthropic, Google, Meta, и многим другим!\n"
          ]
        }
      ],
      "source": [
        "# Получаем API ключ OpenRouter\n",
        "OPENROUTER_API_KEY = os.getenv(\"OPENROUTER_API_KEY\")\n",
        "\n",
        "# Создаем клиент для OpenRouter\n",
        "# Обратите внимание: меняем только base_url и api_key!\n",
        "openrouter_client = OpenAI(\n",
        "    base_url=\"https://openrouter.ai/api/v1\",\n",
        "    api_key=OPENROUTER_API_KEY\n",
        ")\n",
        "\n",
        "print(\"✅ OpenRouter клиент создан!\")\n",
        "print(\"🎯 Теперь у нас доступ к моделям: Anthropic, Google, Meta, и многим другим!\")\n"
      ]
    },
    {
      "cell_type": "markdown",
      "metadata": {},
      "source": [
        "## 5.4 Модели через OpenRouter\n",
        "\n",
        "Теперь протестируем модели других провайдеров. Код остается тот же - меняется только название модели!\n"
      ]
    },
    {
      "cell_type": "code",
      "execution_count": 76,
      "metadata": {},
      "outputs": [
        {
          "name": "stdout",
          "output_type": "stream",
          "text": [
            "🤖 Anthropic Claude 3.5 Sonnet (топовая модель, конкурент GPT-4):\n",
            "**Пошаговый расчёт**\n",
            "\n",
            "| Шаг | Что происходит | У Маши | У Пети |\n",
            "|-----|----------------|--------|--------|\n",
            "| 1   | Изначально у Маши 5 яблок | 5 | 0 |\n",
            "| 2   | Маша отдала 2 яблока Пете | 3 | 2 |\n",
            "| 3   | Маша купила ещё 3 яблока | 6 | 2 |\n",
            "| 4   | Петя съел 1 яблоко | 6 | 1 |\n",
            "| 5   | Петя отдал половину оставшихся яблок (½ яблока) Маше | 6 + 0.5 = 6.5 | 1 – 0.5 = 0.5 |\n",
            "\n",
            "**Ответы**\n",
            "\n",
            "1. У Маши сейчас **6.5 яблок** (13 / 2).  \n",
            "2. У Пети сейчас **0.5 яблока** (1 / 2).  \n",
            "3. Пошаговое решение приведено в таблице выше.\n",
            "\n",
            "📊 Токены: 1157\n",
            "================================================================================\n",
            "\n"
          ]
        }
      ],
      "source": [
        "# Anthropic Claude 3.5 Sonnet - конкурент GPT-4\n",
        "response_claude = openrouter_client.chat.completions.create(\n",
        "    model=\"openai/gpt-oss-20b\",\n",
        "    messages=[{\"role\": \"user\", \"content\": test_prompt}],\n",
        "    temperature=0\n",
        ")\n",
        "\n",
        "print(\"🤖 Anthropic Claude 3.5 Sonnet (топовая модель, конкурент GPT-4):\")\n",
        "print(response_claude.choices[0].message.content)\n",
        "print(f\"\\n📊 Токены: {response_claude.usage.total_tokens}\")\n",
        "print(\"=\"*80 + \"\\n\")\n"
      ]
    },
    {
      "cell_type": "code",
      "execution_count": 78,
      "metadata": {},
      "outputs": [
        {
          "name": "stdout",
          "output_type": "stream",
          "text": [
            "🤖 Google Gemini Pro 1.5 (модель от Google):\n",
            "**1. У Маши:** 6 яблок\n",
            "**2. У Пети:** 1 яблоко\n",
            "\n",
            "**3. Пошаговое решение:**\n",
            "\n",
            "* **Маша:**\n",
            "    * Было: 5 яблок\n",
            "    * Отдала Пете: 5 - 2 = 3 яблока\n",
            "    * Купила: 3 + 3 = 6 яблок\n",
            "    * Получила от Пети: 6 + 1 = 7 яблок (Петя отдал 2/2 = 1 яблоко)\n",
            "    * **Итого у Маши: 7 яблок**\n",
            "\n",
            "* **Петя:**\n",
            "    * Получил от Маши: 2 яблока\n",
            "    * Съел: 2 - 1 = 1 яблоко\n",
            "    * Отдал Маше: 1 / 2 = 0.5 яблока (невозможно отдать половину яблока, поэтому Петя отдал 1 яблоко, а у него осталось 0)\n",
            "    * **Итого у Пети: 0 яблок**\n",
            "\n",
            "**Пересчет с учетом целых яблок:**\n",
            "\n",
            "* **Маша:**\n",
            "    * Было: 5 яблок\n",
            "    * Отдала Пете: 5 - 2 = 3 яблока\n",
            "    * Купила: 3 + 3 = 6 яблок\n",
            "    * Получила от Пети: 6 + 1 = 7 яблок (Петя отдал 1 яблоко)\n",
            "    * **Итого у Маши: 7 яблок**\n",
            "\n",
            "* **Петя:**\n",
            "    * Получил от Маши: 2 яблока\n",
            "    * Съел: 2 - 1 = 1 яблоко\n",
            "    * Отдал Маше: 1 яблоко (если Петя отдал половину, то это 0.5, но так как яблоки целые, он отдал 1 яблоко)\n",
            "    * **Итого у Пети: 0 яблок**\n",
            "\n",
            "**Окончательный ответ:**\n",
            "\n",
            "* **У Маши: 7 яблок**\n",
            "* **У Пети: 0 яблок**\n",
            "\n",
            "📊 Токены: 561\n",
            "================================================================================\n",
            "\n"
          ]
        }
      ],
      "source": [
        "# Google Gemini Pro\n",
        "response_gemini = openrouter_client.chat.completions.create(\n",
        "    model=\"google/gemini-2.5-flash\",\n",
        "    messages=[{\"role\": \"user\", \"content\": test_prompt}],\n",
        "    temperature=0\n",
        ")\n",
        "\n",
        "print(\"🤖 Google Gemini Pro 1.5 (модель от Google):\")\n",
        "print(response_gemini.choices[0].message.content)\n",
        "print(f\"\\n📊 Токены: {response_gemini.usage.total_tokens}\")\n",
        "print(\"=\"*80 + \"\\n\")\n"
      ]
    },
    {
      "cell_type": "code",
      "execution_count": null,
      "metadata": {},
      "outputs": [],
      "source": [
        "# Meta Llama 3.1 70B - сильная открытая модель\n",
        "response_llama70b = openrouter_client.chat.completions.create(\n",
        "    model=\"meta-llama/llama-3.1-70b-instruct\",\n",
        "    messages=[{\"role\": \"user\", \"content\": test_prompt}],\n",
        "    temperature=0\n",
        ")\n",
        "\n",
        "print(\"🤖 Meta Llama 3.1 70B Instruct (сильная открытая модель):\")\n",
        "print(response_llama70b.choices[0].message.content)\n",
        "print(f\"\\n📊 Токены: {response_llama70b.usage.total_tokens}\")\n",
        "print(\"=\"*80 + \"\\n\")\n"
      ]
    },
    {
      "cell_type": "code",
      "execution_count": null,
      "metadata": {},
      "outputs": [],
      "source": [
        "# Claude 3 Haiku - быстрая модель\n",
        "response_haiku = openrouter_client.chat.completions.create(\n",
        "    model=\"anthropic/claude-3-haiku\",\n",
        "    messages=[{\"role\": \"user\", \"content\": test_prompt}],\n",
        "    temperature=0\n",
        ")\n",
        "\n",
        "print(\"🤖 Claude 3 Haiku (быстрая и дешевая модель от Anthropic):\")\n",
        "print(response_haiku.choices[0].message.content)\n",
        "print(f\"\\n📊 Токены: {response_haiku.usage.total_tokens}\")\n",
        "print(\"=\"*80 + \"\\n\")\n"
      ]
    },
    {
      "cell_type": "code",
      "execution_count": null,
      "metadata": {},
      "outputs": [],
      "source": [
        "# Meta Llama 3.2 3B - слабая, но быстрая модель\n",
        "response_llama3b = openrouter_client.chat.completions.create(\n",
        "    model=\"meta-llama/llama-3.2-3b-instruct\",\n",
        "    messages=[{\"role\": \"user\", \"content\": test_prompt}],\n",
        "    temperature=0\n",
        ")\n",
        "\n",
        "print(\"🤖 Meta Llama 3.2 3B Instruct (маленькая, слабая модель):\")\n",
        "print(response_llama3b.choices[0].message.content)\n",
        "print(f\"\\n📊 Токены: {response_llama3b.usage.total_tokens}\")\n",
        "print(\"=\"*80 + \"\\n\")\n"
      ]
    },
    {
      "cell_type": "code",
      "execution_count": null,
      "metadata": {},
      "outputs": [],
      "source": [
        "# Mistral 7B - маленькая модель для простых задач\n",
        "response_mistral = openrouter_client.chat.completions.create(\n",
        "    model=\"mistralai/mistral-7b-instruct\",\n",
        "    messages=[{\"role\": \"user\", \"content\": test_prompt}],\n",
        "    temperature=0\n",
        ")\n",
        "\n",
        "print(\"🤖 Mistral 7B Instruct (маленькая модель для простых задач):\")\n",
        "print(response_mistral.choices[0].message.content)\n",
        "print(f\"\\n📊 Токены: {response_mistral.usage.total_tokens}\")\n",
        "print(\"\\n💡 Обратите внимание: маленькие модели могут делать ошибки в логических задачах!\")\n"
      ]
    },
    {
      "cell_type": "markdown",
      "metadata": {},
      "source": [
        "## 5.5 Reasoning модель (o1-mini)\n",
        "\n",
        "Модели серии o1 от OpenAI - это специальные модели с \"цепочкой рассуждений\" (chain of thought). Они \"думают\" перед ответом!\n",
        "\n",
        "**Особенности o1:**\n",
        "- Делают внутренние рассуждения перед ответом\n",
        "- Лучше справляются со сложными логическими задачами\n",
        "- Медленнее обычных моделей\n",
        "- Дороже в использовании\n",
        "- **Важно:** Не поддерживают system роль и параметр temperature!\n"
      ]
    },
    {
      "cell_type": "code",
      "execution_count": null,
      "metadata": {},
      "outputs": [],
      "source": [
        "# o1-mini - reasoning модель\n",
        "# Обратите внимание: БЕЗ temperature и system роли!\n",
        "response_o1 = client.chat.completions.create(\n",
        "    model=\"o1-mini\",\n",
        "    messages=[{\"role\": \"user\", \"content\": test_prompt}]\n",
        "    # temperature не используется для o1!\n",
        ")\n",
        "\n",
        "print(\"🧠 OpenAI o1-mini (reasoning модель с цепочкой рассуждений):\")\n",
        "print(response_o1.choices[0].message.content)\n",
        "print(f\"\\n📊 Токены: {response_o1.usage.total_tokens}\")\n",
        "print(\"\\n💡 Модель 'думает' перед ответом, поэтому может работать медленнее, но точнее!\")\n"
      ]
    },
    {
      "cell_type": "markdown",
      "metadata": {},
      "source": [
        "---\n",
        "\n",
        "## ✅ Итоги Раздела 5:\n",
        "\n",
        "### 📊 Сравнительная таблица моделей\n",
        "\n",
        "| Модель | Провайдер | Размер | Скорость | Качество | Стоимость | Когда использовать |\n",
        "|--------|-----------|--------|----------|----------|-----------|-------------------|\n",
        "| **GPT-3.5-turbo** | OpenAI | Средний | Быстро | Средне | $ | Простые задачи, прототипы |\n",
        "| **GPT-4o-mini** | OpenAI | Средний | Быстро | Хорошо | $$ | Оптимальный выбор для большинства задач |\n",
        "| **GPT-4o** | OpenAI | Большой | Средне | Отлично | $$$$ | Сложные задачи, высокие требования |\n",
        "| **Claude 3.5 Sonnet** | Anthropic | Большой | Средне | Отлично | $$$$ | Альтернатива GPT-4, хорош для анализа |\n",
        "| **Gemini Pro 1.5** | Google | Большой | Средне | Хорошо | $$$ | Альтернатива, большой контекст |\n",
        "| **Llama 3.1 70B** | Meta | Большой | Средне | Хорошо | $$$ | Открытая модель, хорош для чата |\n",
        "| **Claude Haiku** | Anthropic | Средний | Очень быстро | Хорошо | $$ | Быстрые ответы, простые задачи |\n",
        "| **Llama 3.2 3B** | Meta | Маленький | Очень быстро | Слабо | $ | Очень простые задачи, экономия |\n",
        "| **Mistral 7B** | Mistral | Маленький | Очень быстро | Слабо | $ | Базовые задачи, эксперименты |\n",
        "| **o1-mini** | OpenAI | Средний | Медленно | Отлично* | $$$$$ | Сложная логика, математика, код |\n",
        "\n",
        "*o1 особенно хорош в логике и математике\n",
        "\n",
        "### 🎯 Ключевые выводы:\n",
        "\n",
        "1. **Легкость смены провайдера**: Меняем только `base_url` и `api_key` - всё остальное работает так же!\n",
        "\n",
        "2. **Легкость смены модели**: Меняем только параметр `model` - код не меняется!\n",
        "\n",
        "3. **Разница между моделями**:\n",
        "   - Сильные модели (GPT-4o, Claude 3.5) - более точные, лучше понимают контекст\n",
        "   - Слабые модели (Llama 3B, Mistral 7B) - быстрее и дешевле, но могут ошибаться\n",
        "   - Reasoning модели (o1) - специализированы на логике и рассуждениях\n",
        "\n",
        "4. **Когда что использовать**:\n",
        "   - Прототип/эксперимент → GPT-4o-mini, Claude Haiku\n",
        "   - Продакшн → GPT-4o-mini (баланс цена/качество)\n",
        "   - Сложные задачи → GPT-4o, Claude 3.5 Sonnet\n",
        "   - Логика/математика → o1-mini\n",
        "   - Экономия бюджета → Llama 3.2, Mistral 7B (для простых задач)\n",
        "\n",
        "**Следующий шаг:** Научимся работать с историей диалога!\n"
      ]
    },
    {
      "cell_type": "markdown",
      "metadata": {},
      "source": [
        "---\n",
        "\n",
        "# Раздел 6: Управление историей диалога\n",
        "\n",
        "До этого момента каждый запрос был независимым. Но в реальных чат-ботах нужна память - модель должна помнить предыдущие сообщения!\n",
        "\n",
        "**Важно понимать:** \n",
        "- LLM модели **не хранят историю сами**\n",
        "- Мы должны **передавать всю историю** в каждом запросе\n",
        "- История растет с каждым сообщением → больше токенов → дороже\n",
        "\n",
        "Давайте научимся управлять историей диалога!\n"
      ]
    },
    {
      "cell_type": "markdown",
      "metadata": {},
      "source": [
        "## 6.1 Простой диалог (2 сообщения)\n",
        "\n",
        "Начнем с простого: зададим вопрос и задаем следующий, который зависит от первого:\n"
      ]
    },
    {
      "cell_type": "code",
      "execution_count": 79,
      "metadata": {},
      "outputs": [
        {
          "name": "stdout",
          "output_type": "stream",
          "text": [
            "👤 User: Привет! Меня зовут Алексей.\n",
            "🤖 Assistant: Привет, Алексей! Как я могу помочь тебе сегодня?\n",
            "\n"
          ]
        }
      ],
      "source": [
        "# Первый запрос\n",
        "messages = [\n",
        "    {\"role\": \"system\", \"content\": \"Ты дружелюбный помощник.\"},\n",
        "    {\"role\": \"user\", \"content\": \"Привет! Меня зовут Алексей.\"}\n",
        "]\n",
        "\n",
        "response1 = client.chat.completions.create(\n",
        "    model=\"gpt-4o-mini\",\n",
        "    messages=messages,\n",
        "    temperature=0.7\n",
        ")\n",
        "\n",
        "assistant_reply1 = response1.choices[0].message.content\n",
        "print(\"👤 User: Привет! Меня зовут Алексей.\")\n",
        "print(f\"🤖 Assistant: {assistant_reply1}\")\n",
        "print()\n"
      ]
    },
    {
      "cell_type": "code",
      "execution_count": 80,
      "metadata": {},
      "outputs": [
        {
          "name": "stdout",
          "output_type": "stream",
          "text": [
            "👤 User: Как меня зовут?\n",
            "🤖 Assistant: Тебя зовут Алексей! Чем могу помочь?\n",
            "\n",
            "✅ Модель помнит имя из предыдущего сообщения!\n"
          ]
        }
      ],
      "source": [
        "# Добавляем ответ ассистента в историю\n",
        "messages.append({\"role\": \"assistant\", \"content\": assistant_reply1})\n",
        "\n",
        "# Добавляем новый вопрос пользователя\n",
        "messages.append({\"role\": \"user\", \"content\": \"Как меня зовут?\"})\n",
        "\n",
        "# Второй запрос С ИСТОРИЕЙ\n",
        "response2 = client.chat.completions.create(\n",
        "    model=\"gpt-4o-mini\",\n",
        "    messages=messages,\n",
        "    temperature=0.7\n",
        ")\n",
        "\n",
        "assistant_reply2 = response2.choices[0].message.content\n",
        "print(\"👤 User: Как меня зовут?\")\n",
        "print(f\"🤖 Assistant: {assistant_reply2}\")\n",
        "print(\"\\n✅ Модель помнит имя из предыдущего сообщения!\")\n"
      ]
    },
    {
      "cell_type": "markdown",
      "metadata": {},
      "source": [
        "### ❌ Что если НЕ передать историю?\n"
      ]
    },
    {
      "cell_type": "code",
      "execution_count": 81,
      "metadata": {},
      "outputs": [
        {
          "name": "stdout",
          "output_type": "stream",
          "text": [
            "❌ Запрос БЕЗ истории:\n",
            "👤 User: Как меня зовут?\n",
            "🤖 Assistant: Извините, я не знаю, как вас зовут. Могу помочь с чем-то другим?\n",
            "\n",
            "💡 Модель не знает имя, потому что мы не передали историю!\n"
          ]
        }
      ],
      "source": [
        "# Запрос БЕЗ истории - только новый вопрос\n",
        "response_no_history = client.chat.completions.create(\n",
        "    model=\"gpt-4o-mini\",\n",
        "    messages=[\n",
        "        {\"role\": \"system\", \"content\": \"Ты дружелюбный помощник.\"},\n",
        "        {\"role\": \"user\", \"content\": \"Как меня зовут?\"}  # Спрашиваем имя без контекста\n",
        "    ],\n",
        "    temperature=0.7\n",
        ")\n",
        "\n",
        "print(\"❌ Запрос БЕЗ истории:\")\n",
        "print(\"👤 User: Как меня зовут?\")\n",
        "print(f\"🤖 Assistant: {response_no_history.choices[0].message.content}\")\n",
        "print(\"\\n💡 Модель не знает имя, потому что мы не передали историю!\")\n"
      ]
    },
    {
      "cell_type": "markdown",
      "metadata": {},
      "source": [
        "## 6.2 Длинный диалог с несколькими сообщениями\n",
        "\n",
        "Создадим более реалистичный диалог с несколькими обменами:\n"
      ]
    },
    {
      "cell_type": "code",
      "execution_count": 82,
      "metadata": {},
      "outputs": [
        {
          "name": "stdout",
          "output_type": "stream",
          "text": [
            "✅ Функция chat() создана!\n"
          ]
        }
      ],
      "source": [
        "# Функция-помощник для удобства\n",
        "def chat(user_message, messages_history, model=\"gpt-4o-mini\", temperature=0.7):\n",
        "    \"\"\"\n",
        "    Отправляет сообщение и обновляет историю\n",
        "    \"\"\"\n",
        "    # Добавляем сообщение пользователя\n",
        "    messages_history.append({\"role\": \"user\", \"content\": user_message})\n",
        "    \n",
        "    # Получаем ответ\n",
        "    response = client.chat.completions.create(\n",
        "        model=model,\n",
        "        messages=messages_history,\n",
        "        temperature=temperature\n",
        "    )\n",
        "    \n",
        "    # Извлекаем ответ ассистента\n",
        "    assistant_message = response.choices[0].message.content\n",
        "    \n",
        "    # Добавляем ответ ассистента в историю\n",
        "    messages_history.append({\"role\": \"assistant\", \"content\": assistant_message})\n",
        "    \n",
        "    return assistant_message, response.usage.total_tokens\n",
        "\n",
        "print(\"✅ Функция chat() создана!\")\n"
      ]
    },
    {
      "cell_type": "code",
      "execution_count": null,
      "metadata": {},
      "outputs": [],
      "source": [
        "# Инициализируем новый диалог\n",
        "conversation = [\n",
        "    {\"role\": \"system\", \"content\": \"Ты помощник по планированию путешествий. Помогаешь выбирать места и составлять маршруты.\"}\n",
        "]\n",
        "\n",
        "print(\"🗨️  Длинный диалог с историей:\\n\" + \"=\"*80)\n",
        "\n",
        "# Сообщение 1\n",
        "reply1, tokens1 = chat(\"Привет! Хочу поехать в отпуск в ноябре\", conversation)\n",
        "print(f\"\\n👤 User: Привет! Хочу поехать в отпуск в ноябре\")\n",
        "print(f\"🤖 Assistant: {reply1}\")\n",
        "print(f\"📊 Токенов: {tokens1}\")\n"
      ]
    },
    {
      "cell_type": "code",
      "execution_count": null,
      "metadata": {},
      "outputs": [],
      "source": [
        "# Сообщение 2\n",
        "reply2, tokens2 = chat(\"Люблю теплые страны и море\", conversation)\n",
        "print(f\"\\n👤 User: Люблю теплые страны и море\")\n",
        "print(f\"🤖 Assistant: {reply2}\")\n",
        "print(f\"📊 Токенов: {tokens2} (растет!)\")\n"
      ]
    },
    {
      "cell_type": "code",
      "execution_count": null,
      "metadata": {},
      "outputs": [],
      "source": [
        "# Сообщение 3\n",
        "reply3, tokens3 = chat(\"Бюджет около 100 тысяч рублей\", conversation)\n",
        "print(f\"\\n👤 User: Бюджет около 100 тысяч рублей\")\n",
        "print(f\"🤖 Assistant: {reply3}\")\n",
        "print(f\"📊 Токенов: {tokens3}\")\n"
      ]
    },
    {
      "cell_type": "code",
      "execution_count": null,
      "metadata": {},
      "outputs": [],
      "source": [
        "# Сообщение 4\n",
        "reply4, tokens4 = chat(\"Из первого варианта расскажи подробнее\", conversation)\n",
        "print(f\"\\n👤 User: Из первого варианта расскажи подробнее\")\n",
        "print(f\"🤖 Assistant: {reply4}\")\n",
        "print(f\"📊 Токенов: {tokens4}\")\n"
      ]
    },
    {
      "cell_type": "code",
      "execution_count": null,
      "metadata": {},
      "outputs": [],
      "source": [
        "# Сообщение 5 - Проверка памяти\n",
        "reply5, tokens5 = chat(\"Напомни, какой у меня бюджет и когда я хочу ехать?\", conversation)\n",
        "print(f\"\\n👤 User: Напомни, какой у меня бюджет и когда я хочу ехать?\")\n",
        "print(f\"🤖 Assistant: {reply5}\")\n",
        "print(f\"📊 Токенов: {tokens5}\")\n",
        "print(\"\\n✅ Модель помнит ВСЮ историю разговора!\")\n"
      ]
    },
    {
      "cell_type": "markdown",
      "metadata": {},
      "source": [
        "## 6.3 Анализ роста истории\n",
        "\n",
        "Посмотрим как растет история и количество токенов:\n"
      ]
    },
    {
      "cell_type": "code",
      "execution_count": null,
      "metadata": {},
      "outputs": [],
      "source": [
        "print(\"📊 Анализ истории диалога:\\n\")\n",
        "print(f\"Количество сообщений в истории: {len(conversation)}\")\n",
        "print(f\"  - System: 1\")\n",
        "print(f\"  - User: {len([m for m in conversation if m['role'] == 'user'])}\")\n",
        "print(f\"  - Assistant: {len([m for m in conversation if m['role'] == 'assistant'])}\")\n",
        "print()\n",
        "\n",
        "print(\"📈 Рост токенов с каждым запросом:\")\n",
        "print(f\"  Запрос 1: {tokens1} токенов\")\n",
        "print(f\"  Запрос 2: {tokens2} токенов (+{tokens2-tokens1})\")\n",
        "print(f\"  Запрос 3: {tokens3} токенов (+{tokens3-tokens2})\")\n",
        "print(f\"  Запрос 4: {tokens4} токенов (+{tokens4-tokens3})\")\n",
        "print(f\"  Запрос 5: {tokens5} токенов (+{tokens5-tokens4})\")\n",
        "print()\n",
        "\n",
        "print(\"⚠️ Важно: С каждым сообщением мы платим за ВСЮ историю!\")\n",
        "print(\"Токены = вся предыдущая история + новое сообщение + ответ\")\n"
      ]
    },
    {
      "cell_type": "markdown",
      "metadata": {},
      "source": [
        "## 6.4 Практические паттерны управления историей\n",
        "\n",
        "В реальных приложениях нужно контролировать размер истории. Вот несколько стратегий:\n"
      ]
    },
    {
      "cell_type": "code",
      "execution_count": null,
      "metadata": {},
      "outputs": [],
      "source": [
        "### Стратегия 1: Ограничение количества сообщений\n",
        "\n",
        "def limit_history_by_messages(messages, max_messages=10):\n",
        "    \"\"\"\n",
        "    Оставляет только последние N пар сообщений (user + assistant)\n",
        "    System сообщение всегда сохраняется\n",
        "    \"\"\"\n",
        "    system_messages = [m for m in messages if m['role'] == 'system']\n",
        "    other_messages = [m for m in messages if m['role'] != 'system']\n",
        "    \n",
        "    # Берем последние max_messages сообщений\n",
        "    limited_messages = other_messages[-max_messages:]\n",
        "    \n",
        "    return system_messages + limited_messages\n",
        "\n",
        "# Пример\n",
        "long_history = [\n",
        "    {\"role\": \"system\", \"content\": \"Ты помощник.\"},\n",
        "    {\"role\": \"user\", \"content\": \"Сообщение 1\"},\n",
        "    {\"role\": \"assistant\", \"content\": \"Ответ 1\"},\n",
        "    {\"role\": \"user\", \"content\": \"Сообщение 2\"},\n",
        "    {\"role\": \"assistant\", \"content\": \"Ответ 2\"},\n",
        "    {\"role\": \"user\", \"content\": \"Сообщение 3\"},\n",
        "    {\"role\": \"assistant\", \"content\": \"Ответ 3\"},\n",
        "    {\"role\": \"user\", \"content\": \"Сообщение 4\"},\n",
        "    {\"role\": \"assistant\", \"content\": \"Ответ 4\"},\n",
        "]\n",
        "\n",
        "limited = limit_history_by_messages(long_history, max_messages=4)\n",
        "print(\"📝 Стратегия 1: Ограничение по количеству\")\n",
        "print(f\"Было сообщений: {len(long_history)}\")\n",
        "print(f\"Осталось: {len(limited)} (system + последние 4)\")\n",
        "print()\n"
      ]
    },
    {
      "cell_type": "code",
      "execution_count": null,
      "metadata": {},
      "outputs": [],
      "source": [
        "### Стратегия 2: Суммаризация старой истории\n",
        "\n",
        "\"\"\"\n",
        "Когда история становится слишком длинной:\n",
        "1. Берем старые сообщения\n",
        "2. Просим модель создать краткое резюме\n",
        "3. Заменяем старую историю на резюме\n",
        "4. Сохраняем только недавние сообщения в полном виде\n",
        "\n",
        "Пример (концептуально):\n",
        "\"\"\"\n",
        "\n",
        "def summarize_old_history(messages, keep_last=6):\n",
        "    \"\"\"\n",
        "    Суммаризирует старую историю, оставляя последние сообщения нетронутыми\n",
        "    \"\"\"\n",
        "    # Это упрощенный пример - в реальности нужно вызвать API для суммаризации\n",
        "    if len(messages) <= keep_last + 1:  # +1 для system\n",
        "        return messages\n",
        "    \n",
        "    system_msg = [m for m in messages if m['role'] == 'system']\n",
        "    other_messages = [m for m in messages if m['role'] != 'system']\n",
        "    \n",
        "    # Старые сообщения для суммаризации\n",
        "    old_messages = other_messages[:-keep_last]\n",
        "    recent_messages = other_messages[-keep_last:]\n",
        "    \n",
        "    # В реальности здесь вызов API для создания summary\n",
        "    summary = f\"Краткое содержание предыдущих {len(old_messages)} сообщений: [здесь было бы резюме от модели]\"\n",
        "    \n",
        "    # Создаем новую историю\n",
        "    return system_msg + [{\"role\": \"system\", \"content\": summary}] + recent_messages\n",
        "\n",
        "print(\"📝 Стратегия 2: Суммаризация старой истории\")\n",
        "print(\"Вместо хранения всей истории, суммаризируем старые сообщения\")\n",
        "print(\"Плюсы: экономим токены, сохраняем контекст\")\n",
        "print(\"Минусы: дополнительный запрос к API для суммаризации\")\n",
        "print()\n"
      ]
    },
    {
      "cell_type": "code",
      "execution_count": null,
      "metadata": {},
      "outputs": [],
      "source": [
        "### Стратегия 3: Скользящее окно (Sliding Window)\n",
        "\n",
        "def sliding_window_history(messages, max_tokens=4000):\n",
        "    \"\"\"\n",
        "    Убирает старые сообщения, если общий размер превышает лимит\n",
        "    Примечание: для точного подсчета токенов нужна библиотека tiktoken\n",
        "    Здесь используем приблизительную оценку: ~0.5 токена на символ для русского\n",
        "    \"\"\"\n",
        "    system_msg = [m for m in messages if m['role'] == 'system']\n",
        "    other_messages = [m for m in messages if m['role'] != 'system']\n",
        "    \n",
        "    # Считаем примерное количество токенов\n",
        "    def estimate_tokens(messages):\n",
        "        total_chars = sum(len(m['content']) for m in messages)\n",
        "        return int(total_chars * 0.5)  # Грубая оценка\n",
        "    \n",
        "    # Убираем старые сообщения пока не войдем в лимит\n",
        "    while estimate_tokens(system_msg + other_messages) > max_tokens and len(other_messages) > 2:\n",
        "        other_messages.pop(0)  # Удаляем самое старое\n",
        "    \n",
        "    return system_msg + other_messages\n",
        "\n",
        "print(\"📝 Стратегия 3: Скользящее окно\")\n",
        "print(\"Динамически удаляем старые сообщения на основе количества токенов\")\n",
        "print(\"Плюсы: гибкий контроль расходов\")\n",
        "print(\"Минусы: нужна библиотека для точного подсчета токенов (tiktoken)\")\n",
        "print()\n",
        "\n",
        "print(\"💡 Рекомендации по выбору стратегии:\")\n",
        "print(\"  - Для коротких сессий: без ограничений\")\n",
        "print(\"  - Для чат-ботов: скользящее окно или ограничение по количеству\")\n",
        "print(\"  - Для длинных диалогов: суммаризация + скользящее окно\")\n"
      ]
    },
    {
      "cell_type": "markdown",
      "metadata": {},
      "source": [
        "---\n",
        "\n",
        "## ✅ Итоги Раздела 6:\n",
        "\n",
        "### Ключевые моменты работы с историей:\n",
        "\n",
        "1. **Модель не хранит историю сама** - мы должны передавать её в каждом запросе\n",
        "\n",
        "2. **Структура истории:**\n",
        "   ```python\n",
        "   messages = [\n",
        "       {\"role\": \"system\", \"content\": \"...\"},      # Один раз в начале\n",
        "       {\"role\": \"user\", \"content\": \"...\"},        # Вопрос пользователя\n",
        "       {\"role\": \"assistant\", \"content\": \"...\"},   # Ответ модели\n",
        "       {\"role\": \"user\", \"content\": \"...\"},        # Следующий вопрос\n",
        "       {\"role\": \"assistant\", \"content\": \"...\"},   # Следующий ответ\n",
        "       # ... и так далее\n",
        "   ]\n",
        "   ```\n",
        "\n",
        "3. **Рост токенов:** С каждым сообщением количество токенов растет = растет стоимость\n",
        "\n",
        "4. **Стратегии управления историей:**\n",
        "   - Ограничение по количеству сообщений (самый простой)\n",
        "   - Суммаризация старой истории (сохраняет контекст)\n",
        "   - Скользящее окно по токенам (точный контроль расходов)\n",
        "\n",
        "5. **Практический совет:** Используйте функцию-помощник для автоматического добавления сообщений в историю\n",
        "\n",
        "**Следующий шаг:** Заключение и что изучать дальше!\n"
      ]
    },
    {
      "cell_type": "markdown",
      "metadata": {},
      "source": [
        "---\n",
        "\n",
        "# 🎉 Заключение\n",
        "\n",
        "## Что мы изучили в этом notebook:\n",
        "\n",
        "### ✅ Раздел 1: Первый запрос к OpenAI API\n",
        "- Инициализация клиента OpenAI\n",
        "- Отправка простейшего запроса\n",
        "- Подробный разбор структуры ответа (id, model, choices, usage, finish_reason)\n",
        "- Подсчет токенов и стоимости\n",
        "\n",
        "### ✅ Раздел 2: Основные параметры запроса\n",
        "- **temperature** - управление креативностью (0-2)\n",
        "- **max_tokens** - ограничение длины ответа\n",
        "- **top_p** - альтернативное управление разнообразием\n",
        "- **n** - получение нескольких вариантов\n",
        "- **presence_penalty / frequency_penalty** - штрафы за повторения\n",
        "\n",
        "### ✅ Раздел 3: Структура диалога и роли\n",
        "- **system** - задает контекст и правила поведения\n",
        "- **user** - запросы пользователя\n",
        "- **assistant** - ответы модели\n",
        "- Как роли влияют на поведение модели\n",
        "\n",
        "### ✅ Раздел 4: Простой чат без истории\n",
        "- Генерация контента\n",
        "- Анализ и классификация текста\n",
        "- Извлечение информации\n",
        "- Перевод\n",
        "- Помощь с кодом\n",
        "\n",
        "### ✅ Раздел 5: Сравнение моделей и провайдеров\n",
        "- Модели OpenAI (GPT-3.5, GPT-4o-mini, GPT-4o)\n",
        "- Подключение OpenRouter\n",
        "- Модели других провайдеров (Anthropic, Google, Meta)\n",
        "- Сильные vs слабые модели\n",
        "- Reasoning модель (o1-mini)\n",
        "- **Главное:** Смена модели/провайдера = всего 2 строки кода!\n",
        "\n",
        "### ✅ Раздел 6: Управление историей диалога\n",
        "- Как передавать историю между запросами\n",
        "- Рост токенов с каждым сообщением\n",
        "- Стратегии управления историей\n",
        "- Функция-помощник для работы с диалогом\n"
      ]
    },
    {
      "cell_type": "markdown",
      "metadata": {},
      "source": [
        "---\n",
        "\n",
        "## 🎯 Ключевые выводы\n",
        "\n",
        "### 1. OpenAI API - это просто!\n",
        "Основной паттерн работы:\n",
        "```python\n",
        "response = client.chat.completions.create(\n",
        "    model=\"gpt-4o-mini\",\n",
        "    messages=[\n",
        "        {\"role\": \"system\", \"content\": \"Ты помощник\"},\n",
        "        {\"role\": \"user\", \"content\": \"Привет!\"}\n",
        "    ],\n",
        "    temperature=0.7\n",
        ")\n",
        "answer = response.choices[0].message.content\n",
        "```\n",
        "\n",
        "### 2. Гибкость смены моделей\n",
        "Меняем провайдера:\n",
        "```python\n",
        "# OpenAI\n",
        "client = OpenAI(api_key=OPENAI_API_KEY)\n",
        "\n",
        "# OpenRouter (доступ к Anthropic, Google, Meta и др.)\n",
        "client = OpenAI(\n",
        "    base_url=\"https://openrouter.ai/api/v1\",\n",
        "    api_key=OPENROUTER_API_KEY\n",
        ")\n",
        "```\n",
        "\n",
        "Меняем модель:\n",
        "```python\n",
        "model=\"gpt-4o-mini\"          # OpenAI\n",
        "model=\"anthropic/claude-3.5-sonnet\"  # Anthropic через OpenRouter\n",
        "model=\"google/gemini-pro-1.5\"        # Google через OpenRouter\n",
        "```\n",
        "\n",
        "### 3. System роль = супер-сила\n",
        "Правильный system промпт может кардинально изменить качество и стиль ответов!\n",
        "\n",
        "### 4. История = деньги\n",
        "Каждое сообщение добавляет токены. Управляйте историей осознанно!\n",
        "\n",
        "### 5. Выбор модели\n",
        "- Простые задачи → GPT-4o-mini, Claude Haiku, Llama 3.2 3B\n",
        "- Обычные задачи → GPT-4o-mini (оптимальный выбор)\n",
        "- Сложные задачи → GPT-4o, Claude 3.5 Sonnet\n",
        "- Логика и математика → o1-mini\n"
      ]
    },
    {
      "cell_type": "markdown",
      "metadata": {},
      "source": [
        "---\n",
        "\n",
        "## 🚀 Что изучать дальше?\n",
        "\n",
        "### Следующие темы (в порядке приоритета):\n",
        "\n",
        "#### 1. **Streaming (потоковая передача)**\n",
        "Получение ответа частями в реальном времени (как в ChatGPT)\n",
        "```python\n",
        "stream = client.chat.completions.create(\n",
        "    model=\"gpt-4o-mini\",\n",
        "    messages=[{\"role\": \"user\", \"content\": \"Привет!\"}],\n",
        "    stream=True  # Включаем стриминг\n",
        ")\n",
        "for chunk in stream:\n",
        "    print(chunk.choices[0].delta.content, end=\"\")\n",
        "```\n",
        "\n",
        "#### 2. **Prompt Engineering**\n",
        "- Структурирование промптов (XML, Markdown)\n",
        "- Few-shot learning (примеры в промпте)\n",
        "- Chain of Thought (цепочка рассуждений)\n",
        "- Техники для улучшения качества ответов\n",
        "\n",
        "#### 3. **Structured Output (JSON mode)**\n",
        "Гарантированный JSON в ответе\n",
        "```python\n",
        "response = client.chat.completions.create(\n",
        "    model=\"gpt-4o-mini\",\n",
        "    messages=[{\"role\": \"user\", \"content\": \"Извлеки данные...\"}],\n",
        "    response_format={\"type\": \"json_object\"}\n",
        ")\n",
        "```\n",
        "\n",
        "#### 4. **Function Calling (Tool Use)**\n",
        "Модель может вызывать функции и инструменты\n",
        "- Подключение к API\n",
        "- Работа с базами данных\n",
        "- Выполнение вычислений\n",
        "\n",
        "#### 5. **Multimodal (мультимодальность)**\n",
        "Работа с изображениями, аудио, видео\n",
        "```python\n",
        "messages=[{\n",
        "    \"role\": \"user\",\n",
        "    \"content\": [\n",
        "        {\"type\": \"text\", \"text\": \"Что на картинке?\"},\n",
        "        {\"type\": \"image_url\", \"image_url\": {\"url\": \"https://...\"}}\n",
        "    ]\n",
        "}]\n",
        "```\n",
        "\n",
        "#### 6. **RAG (Retrieval-Augmented Generation)**\n",
        "- Векторные базы данных\n",
        "- Embeddings\n",
        "- Семантический поиск\n",
        "- Подключение внешних знаний\n",
        "\n",
        "#### 7. **Agents и Multi-Agent системы**\n",
        "- Автономные агенты\n",
        "- ReAct паттерн\n",
        "- Взаимодействие нескольких агентов\n",
        "\n",
        "#### 8. **Production Best Practices**\n",
        "- Обработка ошибок и retry логика\n",
        "- Rate limiting\n",
        "- Кэширование\n",
        "- Мониторинг и логирование\n",
        "- Оптимизация стоимости\n"
      ]
    },
    {
      "cell_type": "markdown",
      "metadata": {},
      "source": [
        "---\n",
        "\n",
        "## 📚 Полезные ресурсы\n",
        "\n",
        "### Официальная документация:\n",
        "- **OpenAI API:** https://platform.openai.com/docs/\n",
        "- **OpenAI Cookbook:** https://cookbook.openai.com/\n",
        "- **Anthropic Claude:** https://docs.anthropic.com/\n",
        "- **OpenRouter:** https://openrouter.ai/docs\n",
        "\n",
        "### Prompt Engineering:\n",
        "- **OpenAI Prompt Engineering Guide:** https://platform.openai.com/docs/guides/prompt-engineering\n",
        "- **Anthropic Prompt Engineering:** https://docs.anthropic.com/en/docs/prompt-engineering\n",
        "- **Prompt Engineering Guide:** https://www.promptingguide.ai/\n",
        "\n",
        "### Инструменты:\n",
        "- **OpenAI Playground:** https://platform.openai.com/playground\n",
        "- **Anthropic Console:** https://console.anthropic.com/\n",
        "- **OpenRouter Playground:** https://openrouter.ai/playground\n",
        "\n",
        "### Библиотеки:\n",
        "- **LangChain:** Фреймворк для работы с LLM - https://langchain.com/\n",
        "- **LlamaIndex:** RAG и работа с данными - https://llamaindex.ai/\n",
        "- **Instructor:** Structured outputs - https://github.com/jxnl/instructor\n",
        "- **Tiktoken:** Подсчет токенов - https://github.com/openai/tiktoken\n"
      ]
    },
    {
      "cell_type": "markdown",
      "metadata": {},
      "source": [
        "---\n",
        "\n",
        "## 💡 Финальные рекомендации\n",
        "\n",
        "### Для новичков:\n",
        "1. ✅ Начните с **GPT-4o-mini** - он быстрый, дешевый и достаточно умный\n",
        "2. ✅ Экспериментируйте с **system промптами** - это самый простой способ улучшить результаты\n",
        "3. ✅ Используйте **temperature=0** для задач, где важна точность\n",
        "4. ✅ Всегда проверяйте `finish_reason` - понимайте почему модель остановилась\n",
        "5. ✅ Следите за токенами - они равны деньгам!\n",
        "\n",
        "### Для практики:\n",
        "1. 🔨 Создайте простого чат-бота с историей\n",
        "2. 🔨 Попробуйте разные модели на одной и той же задаче\n",
        "3. 🔨 Поэкспериментируйте с разными system промптами\n",
        "4. 🔨 Реализуйте функцию управления историей\n",
        "5. 🔨 Постройте классификатор текста или экстрактор данных\n",
        "\n",
        "### Лучшие практики:\n",
        "- 🎯 Начинайте с простых решений (не усложняйте раньше времени)\n",
        "- 🎯 Тестируйте на реальных данных (синтетические примеры могут обманывать)\n",
        "- 🎯 Логируйте все запросы (для дебага и улучшения промптов)\n",
        "- 🎯 Обрабатывайте ошибки (API может быть недоступен)\n",
        "- 🎯 Считайте стоимость (особенно при масштабировании)\n",
        "\n",
        "---\n",
        "\n",
        "## 🎓 Поздравляем!\n",
        "\n",
        "Вы освоили основы работы с OpenAI API! Теперь вы можете:\n",
        "- ✅ Отправлять запросы к разным моделям\n",
        "- ✅ Управлять поведением через параметры\n",
        "- ✅ Работать с ролями и историей диалога\n",
        "- ✅ Легко переключаться между провайдерами\n",
        "- ✅ Сравнивать модели и выбирать подходящую\n",
        "\n",
        "**Продолжайте учиться, экспериментировать и создавать! 🚀**\n",
        "\n",
        "---\n",
        "\n",
        "### 📝 Обратная связь\n",
        "\n",
        "Если у вас есть вопросы или предложения по улучшению этого notebook, не стесняйтесь обращаться!\n",
        "\n",
        "**Успехов в изучении LLM и создании ИИ-приложений! 🎉**\n"
      ]
    },
    {
      "cell_type": "markdown",
      "metadata": {},
      "source": []
    }
  ],
  "metadata": {
    "kernelspec": {
      "display_name": "Python 3.12 (notebook_demo)",
      "language": "python",
      "name": "notebook_demo"
    },
    "language_info": {
      "codemirror_mode": {
        "name": "ipython",
        "version": 3
      },
      "file_extension": ".py",
      "mimetype": "text/x-python",
      "name": "python",
      "nbconvert_exporter": "python",
      "pygments_lexer": "ipython3",
      "version": "3.12.9"
    }
  },
  "nbformat": 4,
  "nbformat_minor": 2
}
